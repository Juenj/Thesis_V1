{
 "cells": [
  {
   "cell_type": "code",
   "execution_count": 1,
   "metadata": {},
   "outputs": [],
   "source": [
    "from libs.data_manipulation import *\n",
    "from libs.dim_reduction import *\n",
    "from libs.feature_generation import *\n",
    "from libs.clustering import *\n",
    "from libs.convex_hull import *\n",
    "\n",
    "from mplsoccer import Pitch\n",
    "import os\n",
    "import matplotlib.pyplot as plt\n",
    "from mplsoccer import Pitch\n",
    "from scipy.spatial import ConvexHull\n",
    "from matplotlib.patches import Polygon"
   ]
  },
  {
   "cell_type": "code",
   "execution_count": 2,
   "metadata": {},
   "outputs": [],
   "source": [
    "df = compile_team_tracking_data(\"data/H_EURO2024GERMANY\", \"Denmark\")\n",
    "df = extract_one_match(df,1)\n"
   ]
  },
  {
   "cell_type": "code",
   "execution_count": 3,
   "metadata": {},
   "outputs": [],
   "source": [
    "hulls = convex_hull(df.iloc[::48], \"^home\", num_players = 11)"
   ]
  },
  {
   "cell_type": "code",
   "execution_count": null,
   "metadata": {},
   "outputs": [],
   "source": [
    "top_10_hulls = top_n_similar_hulls(hulls[150], hulls,100)\n",
    "\n",
    "football_pitch = Pitch(pitch_type='skillcorner', pitch_length=105, pitch_width=68, axis=True, \n",
    "                           label=True, line_color=\"white\", pitch_color=\"grass\")\n",
    "football_pitch.draw()  # Draw the pitch on the current axis\n",
    "\n",
    "plt.scatter(hulls[150].points[:, 0], hulls[150].points[:, 1], color='red', s=10)\n",
    "plt.show()\n"
   ]
  },
  {
   "cell_type": "code",
   "execution_count": null,
   "metadata": {},
   "outputs": [],
   "source": [
    "\n",
    "fig, ax = plt.subplots(2, 5, figsize=(15, 10))\n",
    "\n",
    "# Create the pitch with the desired settings\n",
    "for hull, i in zip(top_10_hulls[:10], range(len(top_10_hulls[:10]))):\n",
    "    row = i // 5  # Determine the row index\n",
    "    col = i % 5   # Determine the column index\n",
    "    \n",
    "    # Create a new pitch on each subplot\n",
    "    football_pitch = Pitch(pitch_type='skillcorner', pitch_length=105, pitch_width=68, axis=True, \n",
    "                           label=True, line_color=\"white\", pitch_color=\"grass\")\n",
    "    football_pitch.draw(ax=ax[row, col])  # Draw the pitch on the current axis\n",
    "    \n",
    "    # Scatter plot for convex hull points\n",
    "    ax[row, col].scatter(hull[0].points[:, 0], hull[0].points[:, 1], color='red', s=10)\n",
    "\n",
    "plt.tight_layout()\n",
    "plt.show()\n",
    "\n"
   ]
  },
  {
   "cell_type": "code",
   "execution_count": null,
   "metadata": {},
   "outputs": [],
   "source": [
    "# Calculate Ripley's K values for the convex hull situations\n",
    "ripley_k_vals_hulls = ripley_k_for_hulls(top_10_hulls)\n",
    "\n",
    "# Perform PCA on the Ripley's K values from the convex hull situations\n",
    "pca_obj_ripley_hulls = PCAObject(ripley_k_vals_hulls, 10)  # Fit PCA with 10 components\n",
    "np_pca_ripley_hulls = pca_obj_ripley_hulls.transform(ripley_k_vals_hulls)\n",
    "\n",
    "# Step 9: Plot the PCA-reduced Ripley's K values for the convex hulls\n",
    "plt.figure()\n",
    "plt.scatter(np_pca_ripley_hulls[:, 0], np_pca_ripley_hulls[:, 1])\n",
    "plt.title(\"PCA of Ripley's K for Convex Hull Situations\")\n",
    "plt.xlabel('PCA Component 1')\n",
    "plt.ylabel('PCA Component 2')\n",
    "plt.show()\n"
   ]
  },
  {
   "cell_type": "code",
   "execution_count": null,
   "metadata": {},
   "outputs": [],
   "source": [
    "# Step 4: Cluster the PCA-reduced Ripley's K values using your KMeansObject\n",
    "n_clusters = 5  # Choose the number of clusters\n",
    "clustering_obj_ripley_hulls = KMeansObject(np_pca_ripley_hulls, n_clusters)  # Fit KMeans\n",
    "labels = clustering_obj_ripley_hulls.get_labels()  # Get the cluster labels\n",
    "\n",
    "# Step 5: Plot the clustered PCA-reduced Ripley's K values\n",
    "plt.figure(figsize=(8, 6))\n",
    "plt.scatter(np_pca_ripley_hulls[:, 0], np_pca_ripley_hulls[:, 1], c=labels, cmap='viridis', marker='o', s=50)\n",
    "plt.title('Clustered PCA of Ripley K for Convex Hull Situations')\n",
    "plt.xlabel('PCA Component 1')\n",
    "plt.ylabel('PCA Component 2')\n",
    "plt.colorbar(label='Cluster Label')  # Optional: Add a colorbar to indicate cluster labels\n",
    "plt.show()\n"
   ]
  },
  {
   "cell_type": "code",
   "execution_count": null,
   "metadata": {},
   "outputs": [],
   "source": [
    "top_10_hulls[0][0].points"
   ]
  },
  {
   "cell_type": "code",
   "execution_count": 16,
   "metadata": {},
   "outputs": [],
   "source": [
    "# Create the main directory for clusters\n",
    "main_folder = \"clusters\"\n",
    "os.makedirs(main_folder, exist_ok=True)\n",
    "\n",
    "\n",
    "# Assuming you have a DataFrame or similar structure that relates each hull to its original data\n",
    "# For example, top_10_hulls should be indexed or associated with their respective K values.\n",
    "\n",
    "# Create a dictionary to hold situations by cluster\n",
    "situations_by_cluster = {i: [] for i in range(n_clusters)}\n",
    "\n",
    "# Map each situation (hull) to its corresponding cluster label\n",
    "for idx, label in enumerate(labels):\n",
    " \n",
    "    situations_by_cluster[label].append(top_10_hulls[idx][0].points)  # Append the hull or associated data to the respective cluster\n",
    "\n",
    "\n",
    "# Assuming you have a dictionary `situations_by_cluster` where each cluster contains multiple situations (hulls)\n",
    "for cluster, situations in situations_by_cluster.items():\n",
    "    # Create a subfolder for each cluster\n",
    "    cluster_folder = os.path.join(main_folder, f\"cluster_{cluster}\")\n",
    "    os.makedirs(cluster_folder, exist_ok=True)\n",
    "    \n",
    "    # Loop through each situation in the cluster and plot it\n",
    "    for idx, situation in enumerate(situations):\n",
    "        # Create a new figure with a soccer pitch background\n",
    "        fig, ax = plt.subplots(figsize=(10, 7))\n",
    "        football_pitch = Pitch(pitch_type='skillcorner', pitch_length=105, pitch_width=68, axis=True, \n",
    "                               label=True, line_color=\"white\", pitch_color=\"grass\")\n",
    "        football_pitch.draw(ax=ax)\n",
    "        \n",
    "        # Scatter plot for the convex hull points\n",
    "        ax.scatter(situation[:, 0], situation[:, 1], color='red', s=50)\n",
    "        \n",
    "        # Compute the convex hull for the points\n",
    "        hull = ConvexHull(situation)\n",
    "        # Extract the vertices of the hull\n",
    "        hull_points = situation[hull.vertices]\n",
    "        \n",
    "        # Plot the convex hull polygon\n",
    "        polygon = Polygon(hull_points, closed=True, edgecolor='blue', fill=False, linewidth=2)\n",
    "        ax.add_patch(polygon)\n",
    "        \n",
    "        # Customize the plot (optional)\n",
    "        plt.title(f'Situation {idx+1} in Cluster {cluster}')\n",
    "        plt.xlabel('X Coordinate')\n",
    "        plt.ylabel('Y Coordinate')\n",
    "        \n",
    "        # Save the plot in the appropriate cluster folder\n",
    "        save_path = os.path.join(cluster_folder, f'situation_{idx+1}.png')\n",
    "        plt.savefig(save_path)\n",
    "        plt.close()  # Close the plot to avoid displaying it\n"
   ]
  },
  {
   "cell_type": "code",
   "execution_count": 2,
   "metadata": {},
   "outputs": [],
   "source": [
    "import os\n",
    "import vlc\n",
    "import time\n",
    "\n",
    "# Path to your video file\n",
    "video_path = r\"C:\\Users\\Ericd\\OneDrive\\Dokumenter\\GitHub\\Thesis_V1\\data\\video\\EURO2020Russia_vs_Denmark_1st_Half_769630.mp4\"\n",
    "\n",
    "# Create an instance of VLC player with stop button\n",
    "player = vlc.MediaPlayer(video_path) \n",
    "player.video_set_mouse_input(False)\n",
    "player.video_set_key_input(False)\n",
    "\n",
    "# Play the video\n",
    "player.play()\n",
    "# Make a stop button in the vlc\n",
    "\n",
    "\n",
    "# Keep the player running until the video finishes\n",
    "duration = player.get_length() / 1000  # Convert milliseconds to seconds\n",
    "time.sleep(duration)  # Let the video play to its full duration\n"
   ]
  },
  {
   "cell_type": "code",
   "execution_count": null,
   "metadata": {},
   "outputs": [],
   "source": []
  }
 ],
 "metadata": {
  "kernelspec": {
   "display_name": "Python 3",
   "language": "python",
   "name": "python3"
  },
  "language_info": {
   "codemirror_mode": {
    "name": "ipython",
    "version": 3
   },
   "file_extension": ".py",
   "mimetype": "text/x-python",
   "name": "python",
   "nbconvert_exporter": "python",
   "pygments_lexer": "ipython3",
   "version": "3.11.9"
  }
 },
 "nbformat": 4,
 "nbformat_minor": 2
}
