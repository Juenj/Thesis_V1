{
 "cells": [
  {
   "cell_type": "code",
   "execution_count": 1,
   "metadata": {},
   "outputs": [
    {
     "name": "stderr",
     "output_type": "stream",
     "text": [
      "/home/martin/.local/lib/python3.10/site-packages/requests/__init__.py:109: RequestsDependencyWarning: urllib3 (2.2.3) or chardet (None)/charset_normalizer (2.1.0) doesn't match a supported version!\n",
      "  warnings.warn(\n"
     ]
    },
    {
     "name": "stdout",
     "output_type": "stream",
     "text": [
      "['ConstantInputWarning', 'DegenerateDataWarning', 'FitError', 'NearConstantInputWarning', 'NumericalInverseHermite', '__all__', '__builtins__', '__cached__', '__doc__', '__file__', '__loader__', '__name__', '__package__', '__path__', '__spec__', '_axis_nan_policy', '_biasedurn', '_binned_statistic', '_binomtest', '_boost', '_common', '_constants', '_continuous_distns', '_crosstab', '_discrete_distns', '_distn_infrastructure', '_distr_params', '_entropy', '_fit', '_hypotests', '_hypotests_pythran', '_kde', '_ksstats', '_levy_stable', '_mannwhitneyu', '_morestats', '_mstats_basic', '_mstats_extras', '_multivariate', '_mvn', '_page_trend_test', '_qmc', '_qmc_cy', '_relative_risk', '_resampling', '_rvs_sampling', '_sobol', '_statlib', '_stats', '_stats_mstats_common', '_stats_py', '_tukeylambda_stats', '_unuran', '_variation', '_warnings_errors', 'alexandergovern', 'alpha', 'anderson', 'anderson_ksamp', 'anglit', 'ansari', 'arcsine', 'argus', 'barnard_exact', 'bartlett', 'bayes_mvs', 'bernoulli', 'beta', 'betabinom', 'betaprime', 'biasedurn', 'binned_statistic', 'binned_statistic_2d', 'binned_statistic_dd', 'binom', 'binom_test', 'binomtest', 'boltzmann', 'bootstrap', 'boschloo_exact', 'boxcox', 'boxcox_llf', 'boxcox_normmax', 'boxcox_normplot', 'bradford', 'brunnermunzel', 'burr', 'burr12', 'cauchy', 'chi', 'chi2', 'chi2_contingency', 'chisquare', 'circmean', 'circstd', 'circvar', 'combine_pvalues', 'contingency', 'cosine', 'cramervonmises', 'cramervonmises_2samp', 'crystalball', 'cumfreq', 'describe', 'dgamma', 'differential_entropy', 'dirichlet', 'distributions', 'dlaplace', 'dweibull', 'energy_distance', 'entropy', 'epps_singleton_2samp', 'erlang', 'expon', 'exponnorm', 'exponpow', 'exponweib', 'f', 'f_oneway', 'fatiguelife', 'find_repeats', 'fisher_exact', 'fisk', 'fit', 'fligner', 'foldcauchy', 'foldnorm', 'friedmanchisquare', 'gamma', 'gausshyper', 'gaussian_kde', 'genexpon', 'genextreme', 'gengamma', 'genhalflogistic', 'genhyperbolic', 'geninvgauss', 'genlogistic', 'gennorm', 'genpareto', 'geom', 'gibrat', 'gilbrat', 'gmean', 'gompertz', 'gstd', 'gumbel_l', 'gumbel_r', 'gzscore', 'halfcauchy', 'halfgennorm', 'halflogistic', 'halfnorm', 'hmean', 'hypergeom', 'hypsecant', 'invgamma', 'invgauss', 'invweibull', 'invwishart', 'iqr', 'jarque_bera', 'johnsonsb', 'johnsonsu', 'kappa3', 'kappa4', 'kde', 'kendalltau', 'kruskal', 'ks_1samp', 'ks_2samp', 'ksone', 'kstat', 'kstatvar', 'kstest', 'kstwo', 'kstwobign', 'kurtosis', 'kurtosistest', 'laplace', 'laplace_asymmetric', 'levene', 'levy', 'levy_l', 'levy_stable', 'linregress', 'loggamma', 'logistic', 'loglaplace', 'lognorm', 'logser', 'loguniform', 'lomax', 'mannwhitneyu', 'matrix_normal', 'maxwell', 'median_abs_deviation', 'median_test', 'mielke', 'mode', 'moment', 'monte_carlo_test', 'mood', 'morestats', 'moyal', 'mstats', 'mstats_basic', 'mstats_extras', 'multinomial', 'multiscale_graphcorr', 'multivariate_hypergeom', 'multivariate_normal', 'multivariate_t', 'mvn', 'mvsdist', 'nakagami', 'nbinom', 'ncf', 'nchypergeom_fisher', 'nchypergeom_wallenius', 'nct', 'ncx2', 'nhypergeom', 'norm', 'normaltest', 'norminvgauss', 'obrientransform', 'ortho_group', 'page_trend_test', 'pareto', 'pearson3', 'pearsonr', 'percentileofscore', 'permutation_test', 'planck', 'pmean', 'pointbiserialr', 'poisson', 'power_divergence', 'powerlaw', 'powerlognorm', 'powernorm', 'ppcc_max', 'ppcc_plot', 'probplot', 'qmc', 'randint', 'random_correlation', 'rankdata', 'ranksums', 'rayleigh', 'rdist', 'recipinvgauss', 'reciprocal', 'relfreq', 'rice', 'rv_continuous', 'rv_discrete', 'rv_histogram', 'rvs_ratio_uniforms', 'scoreatpercentile', 'sem', 'semicircular', 'shapiro', 'siegelslopes', 'sigmaclip', 'skellam', 'skew', 'skewcauchy', 'skewnorm', 'skewtest', 'somersd', 'spearmanr', 'special_ortho_group', 'statlib', 'stats', 'studentized_range', 't', 'test', 'theilslopes', 'tiecorrect', 'tmax', 'tmean', 'tmin', 'trapezoid', 'trapz', 'triang', 'trim1', 'trim_mean', 'trimboth', 'truncexpon', 'truncnorm', 'truncweibull_min', 'tsem', 'tstd', 'ttest_1samp', 'ttest_ind', 'ttest_ind_from_stats', 'ttest_rel', 'tukey_hsd', 'tukeylambda', 'tvar', 'uniform', 'unitary_group', 'variation', 'vonmises', 'vonmises_line', 'wald', 'wasserstein_distance', 'weibull_max', 'weibull_min', 'weightedtau', 'wilcoxon', 'wishart', 'wrapcauchy', 'yeojohnson', 'yeojohnson_llf', 'yeojohnson_normmax', 'yeojohnson_normplot', 'yulesimon', 'zipf', 'zipfian', 'zmap', 'zscore']\n"
     ]
    },
    {
     "ename": "ImportError",
     "evalue": "cannot import name 'wasserstein_distance_nd' from 'scipy.stats' (/home/martin/.local/lib/python3.10/site-packages/scipy/stats/__init__.py)",
     "output_type": "error",
     "traceback": [
      "\u001b[0;31m---------------------------------------------------------------------------\u001b[0m",
      "\u001b[0;31mImportError\u001b[0m                               Traceback (most recent call last)",
      "Cell \u001b[0;32mIn [1], line 10\u001b[0m\n\u001b[1;32m      8\u001b[0m \u001b[38;5;28;01mimport\u001b[39;00m \u001b[38;5;21;01mscipy\u001b[39;00m\n\u001b[1;32m      9\u001b[0m \u001b[38;5;28mprint\u001b[39m(\u001b[38;5;28mdir\u001b[39m(scipy\u001b[38;5;241m.\u001b[39mstats))\n\u001b[0;32m---> 10\u001b[0m \u001b[38;5;28;01mfrom\u001b[39;00m \u001b[38;5;21;01mscipy\u001b[39;00m\u001b[38;5;21;01m.\u001b[39;00m\u001b[38;5;21;01mstats\u001b[39;00m \u001b[38;5;28;01mimport\u001b[39;00m wasserstein_distance_nd\n",
      "\u001b[0;31mImportError\u001b[0m: cannot import name 'wasserstein_distance_nd' from 'scipy.stats' (/home/martin/.local/lib/python3.10/site-packages/scipy/stats/__init__.py)"
     ]
    }
   ],
   "source": [
    "from libs.data_manipulation import *\n",
    "from libs.feature_generation import *\n",
    "from libs.dim_reduction import *\n",
    "from libs.football_plots import *\n",
    "from libs.clustering import *\n",
    "from libs.convex_hull import *\n",
    "from libs.weight_generator import *\n",
    "import scipy\n",
    "print(dir(scipy.stats))\n",
    "from scipy.stats import wasserstein_distance"
   ]
  },
  {
   "cell_type": "code",
   "execution_count": 8,
   "metadata": {},
   "outputs": [],
   "source": [
    "england_df = compile_team_tracking_data(\"data\", \"England\")\n"
   ]
  },
  {
   "cell_type": "code",
   "execution_count": 16,
   "metadata": {},
   "outputs": [],
   "source": [
    "one_match = extract_one_match(england_df).iloc[::48]\n",
    "identified_corner_timestamp = 4432.84"
   ]
  },
  {
   "cell_type": "code",
   "execution_count": 22,
   "metadata": {},
   "outputs": [
    {
     "data": {
      "text/plain": [
       "Index(['Time [s]', 'Time [s]_team', 'half_team', 'minute_team', 'Period_team',\n",
       "       'home_6_x', 'home_6_y', 'home_1_x', 'home_1_y', 'home_10_x',\n",
       "       'home_10_y', 'home_11_x', 'home_11_y', 'home_2_x', 'home_2_y',\n",
       "       'home_7_x', 'home_7_y', 'home_8_x', 'home_8_y', 'home_9_x', 'home_9_y',\n",
       "       'home_5_x', 'home_5_y', 'home_12_x', 'home_12_y', 'home_4_x',\n",
       "       'home_4_y', 'home_20_x', 'home_20_y', 'home_16_x', 'home_16_y',\n",
       "       'ball_x_team', 'ball_y_team', 'ball_z_team', 'half', 'minute', 'Period',\n",
       "       'away_2_x', 'away_2_y', 'away_9_x', 'away_9_y', 'away_1_x', 'away_1_y',\n",
       "       'away_14_x', 'away_14_y', 'away_20_x', 'away_20_y', 'away_11_x',\n",
       "       'away_11_y', 'away_6_x', 'away_6_y', 'away_10_x', 'away_10_y',\n",
       "       'away_17_x', 'away_17_y', 'ball_x', 'ball_y', 'ball_z', 'home_19_x',\n",
       "       'home_19_y', 'home_21_x', 'home_21_y', 'away_3_x', 'away_3_y',\n",
       "       'away_5_x', 'away_5_y', 'away_21_x', 'away_21_y', 'away_23_x',\n",
       "       'away_23_y', 'away_19_x', 'away_19_y', 'away_18_x', 'away_18_y',\n",
       "       'away_15_x', 'away_15_y'],\n",
       "      dtype='object')"
      ]
     },
     "execution_count": 22,
     "metadata": {},
     "output_type": "execute_result"
    }
   ],
   "source": [
    "one_match.columns"
   ]
  },
  {
   "cell_type": "code",
   "execution_count": 25,
   "metadata": {},
   "outputs": [
    {
     "name": "stdout",
     "output_type": "stream",
     "text": [
      "['home_6_x', 'home_1_x', 'home_10_x', 'home_11_x', 'home_2_x', 'home_7_x', 'home_8_x', 'home_9_x', 'home_5_x', 'home_12_x', 'home_4_x', 'home_20_x', 'home_16_x', 'home_19_x', 'home_21_x']\n",
      "['home_6_y', 'home_1_y', 'home_10_y', 'home_11_y', 'home_2_y', 'home_7_y', 'home_8_y', 'home_9_y', 'home_5_y', 'home_12_y', 'home_4_y', 'home_20_y', 'home_16_y', 'home_19_y', 'home_21_y']\n",
      "['home_6_x', 'home_1_x', 'home_10_x', 'home_11_x', 'home_2_x', 'home_7_x', 'home_8_x', 'home_9_x', 'home_5_x', 'home_12_x', 'home_4_x', 'home_20_x', 'home_16_x', 'home_19_x', 'home_21_x']\n",
      "['home_6_y', 'home_1_y', 'home_10_y', 'home_11_y', 'home_2_y', 'home_7_y', 'home_8_y', 'home_9_y', 'home_5_y', 'home_12_y', 'home_4_y', 'home_20_y', 'home_16_y', 'home_19_y', 'home_21_y']\n"
     ]
    }
   ],
   "source": [
    "identified_corner_df = one_match[one_match[\"Time [s]\"] == identified_corner_timestamp]\n",
    "inverse_identified_corner_weights = calculate_weights(identified_corner_df, fun = lambda x : 1/x)\n",
    "inverse_distance_list = calculate_weights(one_match, fun= lambda x: 1/x) #Inverse proportionality to distance"
   ]
  },
  {
   "cell_type": "code",
   "execution_count": 54,
   "metadata": {},
   "outputs": [
    {
     "ename": "ImportError",
     "evalue": "cannot import name 'wasserstein_distance_nd' from 'scipy.stats' (/home/martin/.local/lib/python3.10/site-packages/scipy/stats/__init__.py)",
     "output_type": "error",
     "traceback": [
      "\u001b[0;31m---------------------------------------------------------------------------\u001b[0m",
      "\u001b[0;31mImportError\u001b[0m                               Traceback (most recent call last)",
      "Cell \u001b[0;32mIn [54], line 1\u001b[0m\n\u001b[0;32m----> 1\u001b[0m \u001b[38;5;28;01mfrom\u001b[39;00m \u001b[38;5;21;01mscipy\u001b[39;00m\u001b[38;5;21;01m.\u001b[39;00m\u001b[38;5;21;01mstats\u001b[39;00m \u001b[38;5;28;01mimport\u001b[39;00m wasserstein_distance_nd\n\u001b[1;32m      3\u001b[0m coordinates \u001b[38;5;241m=\u001b[39m one_match\u001b[38;5;241m.\u001b[39mfilter(regex \u001b[38;5;241m=\u001b[39m\u001b[38;5;124m\"\u001b[39m\u001b[38;5;124m^home\u001b[39m\u001b[38;5;124m\"\u001b[39m)\u001b[38;5;241m.\u001b[39mto_numpy()\n\u001b[1;32m      5\u001b[0m identified_corner_coordinates_numpy \u001b[38;5;241m=\u001b[39m identified_corner_df\u001b[38;5;241m.\u001b[39mto_numpy()\n",
      "\u001b[0;31mImportError\u001b[0m: cannot import name 'wasserstein_distance_nd' from 'scipy.stats' (/home/martin/.local/lib/python3.10/site-packages/scipy/stats/__init__.py)"
     ]
    }
   ],
   "source": [
    "from scipy.stats import wasserstein_distance_nd\n",
    "\n",
    "coordinates = one_match.filter(regex =\"^home\").to_numpy()\n",
    "\n",
    "identified_corner_coordinates_numpy = identified_corner_df.to_numpy()\n",
    "identified_corner_coordinates = [list(zip(row[~np.isnan(row)][::2],row[~np.isnan(row)][1::2])) for row in coordinates]\n",
    "coordinates_zipped = [list(zip(row[~np.isnan(row)][::2],row[~np.isnan(row)][1::2])) for row in coordinates]\n"
   ]
  },
  {
   "cell_type": "code",
   "execution_count": 52,
   "metadata": {},
   "outputs": [
    {
     "name": "stdout",
     "output_type": "stream",
     "text": [
      "1 11\n"
     ]
    },
    {
     "ename": "ValueError",
     "evalue": "object too deep for desired array",
     "output_type": "error",
     "traceback": [
      "\u001b[0;31m---------------------------------------------------------------------------\u001b[0m",
      "\u001b[0;31mValueError\u001b[0m                                Traceback (most recent call last)",
      "Cell \u001b[0;32mIn [52], line 6\u001b[0m\n\u001b[1;32m      4\u001b[0m \u001b[38;5;28;01mfor\u001b[39;00m weights, coordinates \u001b[38;5;129;01min\u001b[39;00m \u001b[38;5;28mzip\u001b[39m(inverse_distance_list, coordinates_zipped):\n\u001b[1;32m      5\u001b[0m     \u001b[38;5;28mprint\u001b[39m(\u001b[38;5;28mlen\u001b[39m(inverse_identified_corner_weights), \u001b[38;5;28mlen\u001b[39m(identified_corner_coordinates[\u001b[38;5;241m0\u001b[39m]))\n\u001b[0;32m----> 6\u001b[0m     distances\u001b[38;5;241m.\u001b[39mappend(\u001b[43mwasserstein_distance\u001b[49m\u001b[43m(\u001b[49m\u001b[43midentified_corner_coordinates\u001b[49m\u001b[43m[\u001b[49m\u001b[38;5;241;43m0\u001b[39;49m\u001b[43m]\u001b[49m\u001b[43m,\u001b[49m\u001b[43m \u001b[49m\u001b[43mcoordinates\u001b[49m\u001b[43m,\u001b[49m\u001b[43m \u001b[49m\u001b[43mu_weights\u001b[49m\u001b[38;5;241;43m=\u001b[39;49m\u001b[43m \u001b[49m\u001b[43minverse_identified_corner_weights\u001b[49m\u001b[43m[\u001b[49m\u001b[38;5;241;43m0\u001b[39;49m\u001b[43m]\u001b[49m\u001b[43m,\u001b[49m\u001b[43m \u001b[49m\u001b[43mv_weights\u001b[49m\u001b[38;5;241;43m=\u001b[39;49m\u001b[43mweights\u001b[49m\u001b[43m)\u001b[49m)\n",
      "File \u001b[0;32m~/.local/lib/python3.10/site-packages/scipy/stats/_stats_py.py:8731\u001b[0m, in \u001b[0;36mwasserstein_distance\u001b[0;34m(u_values, v_values, u_weights, v_weights)\u001b[0m\n\u001b[1;32m   8657\u001b[0m \u001b[38;5;28;01mdef\u001b[39;00m \u001b[38;5;21mwasserstein_distance\u001b[39m(u_values, v_values, u_weights\u001b[38;5;241m=\u001b[39m\u001b[38;5;28;01mNone\u001b[39;00m, v_weights\u001b[38;5;241m=\u001b[39m\u001b[38;5;28;01mNone\u001b[39;00m):\n\u001b[1;32m   8658\u001b[0m     \u001b[38;5;124mr\u001b[39m\u001b[38;5;124;03m\"\"\"\u001b[39;00m\n\u001b[1;32m   8659\u001b[0m \u001b[38;5;124;03m    Compute the first Wasserstein distance between two 1D distributions.\u001b[39;00m\n\u001b[1;32m   8660\u001b[0m \n\u001b[0;32m   (...)\u001b[0m\n\u001b[1;32m   8729\u001b[0m \n\u001b[1;32m   8730\u001b[0m \u001b[38;5;124;03m    \"\"\"\u001b[39;00m\n\u001b[0;32m-> 8731\u001b[0m     \u001b[38;5;28;01mreturn\u001b[39;00m \u001b[43m_cdf_distance\u001b[49m\u001b[43m(\u001b[49m\u001b[38;5;241;43m1\u001b[39;49m\u001b[43m,\u001b[49m\u001b[43m \u001b[49m\u001b[43mu_values\u001b[49m\u001b[43m,\u001b[49m\u001b[43m \u001b[49m\u001b[43mv_values\u001b[49m\u001b[43m,\u001b[49m\u001b[43m \u001b[49m\u001b[43mu_weights\u001b[49m\u001b[43m,\u001b[49m\u001b[43m \u001b[49m\u001b[43mv_weights\u001b[49m\u001b[43m)\u001b[49m\n",
      "File \u001b[0;32m~/.local/lib/python3.10/site-packages/scipy/stats/_stats_py.py:8878\u001b[0m, in \u001b[0;36m_cdf_distance\u001b[0;34m(p, u_values, v_values, u_weights, v_weights)\u001b[0m\n\u001b[1;32m   8874\u001b[0m deltas \u001b[38;5;241m=\u001b[39m np\u001b[38;5;241m.\u001b[39mdiff(all_values)\n\u001b[1;32m   8876\u001b[0m \u001b[38;5;66;03m# Get the respective positions of the values of u and v among the values of\u001b[39;00m\n\u001b[1;32m   8877\u001b[0m \u001b[38;5;66;03m# both distributions.\u001b[39;00m\n\u001b[0;32m-> 8878\u001b[0m u_cdf_indices \u001b[38;5;241m=\u001b[39m \u001b[43mu_values\u001b[49m\u001b[43m[\u001b[49m\u001b[43mu_sorter\u001b[49m\u001b[43m]\u001b[49m\u001b[38;5;241;43m.\u001b[39;49m\u001b[43msearchsorted\u001b[49m\u001b[43m(\u001b[49m\u001b[43mall_values\u001b[49m\u001b[43m[\u001b[49m\u001b[43m:\u001b[49m\u001b[38;5;241;43m-\u001b[39;49m\u001b[38;5;241;43m1\u001b[39;49m\u001b[43m]\u001b[49m\u001b[43m,\u001b[49m\u001b[43m \u001b[49m\u001b[38;5;124;43m'\u001b[39;49m\u001b[38;5;124;43mright\u001b[39;49m\u001b[38;5;124;43m'\u001b[39;49m\u001b[43m)\u001b[49m\n\u001b[1;32m   8879\u001b[0m v_cdf_indices \u001b[38;5;241m=\u001b[39m v_values[v_sorter]\u001b[38;5;241m.\u001b[39msearchsorted(all_values[:\u001b[38;5;241m-\u001b[39m\u001b[38;5;241m1\u001b[39m], \u001b[38;5;124m'\u001b[39m\u001b[38;5;124mright\u001b[39m\u001b[38;5;124m'\u001b[39m)\n\u001b[1;32m   8881\u001b[0m \u001b[38;5;66;03m# Calculate the CDFs of u and v using their weights, if specified.\u001b[39;00m\n",
      "\u001b[0;31mValueError\u001b[0m: object too deep for desired array"
     ]
    }
   ],
   "source": [
    "\n",
    "#Get closest situations\n",
    "distances = []\n",
    "i = 0\n",
    "for weights, coordinates in zip(inverse_distance_list, coordinates_zipped):\n",
    "    distances.append(wasserstein_distance(identified_corner_coordinates[0], coordinates, u_weights= inverse_identified_corner_weights[0], v_weights=weights))"
   ]
  }
 ],
 "metadata": {
  "kernelspec": {
   "display_name": "DBU",
   "language": "python",
   "name": "python3"
  },
  "language_info": {
   "codemirror_mode": {
    "name": "ipython",
    "version": 3
   },
   "file_extension": ".py",
   "mimetype": "text/x-python",
   "name": "python",
   "nbconvert_exporter": "python",
   "pygments_lexer": "ipython3",
   "version": "3.10.11"
  }
 },
 "nbformat": 4,
 "nbformat_minor": 2
}
