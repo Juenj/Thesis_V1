{
 "cells": [
  {
   "cell_type": "code",
   "execution_count": 1,
   "metadata": {},
   "outputs": [],
   "source": [
    "from libs.data_manipulation import *"
   ]
  },
  {
   "cell_type": "code",
   "execution_count": 2,
   "metadata": {},
   "outputs": [],
   "source": [
    "df = compile_team_tracking_data(\"data\", \"Denmark\")\n",
    "df[\"match_name\"] = df[\"match_name\"].apply(lambda x : str(x))\n",
    "labels_df = pd.read_csv(\"data/Labelled_ground_truths.csv\")\n"
   ]
  },
  {
   "cell_type": "code",
   "execution_count": 3,
   "metadata": {},
   "outputs": [],
   "source": [
    "labels_df[\"Time[s]\"] = labels_df[\"Time[s]\"].apply(lambda x: float(int(x[:-4]) * 60 + int(x[-2:])))\n"
   ]
  },
  {
   "cell_type": "code",
   "execution_count": 4,
   "metadata": {},
   "outputs": [
    {
     "name": "stdout",
     "output_type": "stream",
     "text": [
      "               Label  Time[s]          match_name  Competition\n",
      "0                1v1    365.0   \"Germany_Denmark\"   \"EURO2024\"\n",
      "1                1v1    314.0    \"Denmark_Serbia\"   \"EURO2024\"\n",
      "2  breakthrough-even   1560.0    Denmark_Slovenia   \"EURO2024\"\n",
      "3  breakthrough-even   1920.0    Denmark_Slovenia   \"EURO2024\"\n",
      "4  breakthrough-even   3309.0    Denmark_Slovenia   \"EURO2024\"\n",
      "   Time [s]_team half_team  minute_team  Period_team   home_6_x  home_6_y  \\\n",
      "0           0.00        1H            0            1  18.863983  6.937420   \n",
      "1           0.04        1H            0            1  18.860191  6.943985   \n",
      "2           0.08        1H            0            1  18.856722  6.951682   \n",
      "3           0.12        1H            0            1  18.853645  6.960831   \n",
      "4           0.16        1H            0            1  18.851160  6.971420   \n",
      "\n",
      "   home_18_x  home_18_y   home_1_x  home_1_y  ...  away_16_x  away_16_y  \\\n",
      "0  16.191383  27.790174  52.532173 -0.016596  ...        NaN        NaN   \n",
      "1  16.196404  27.782358  52.532738 -0.013765  ...        NaN        NaN   \n",
      "2  16.200035  27.776085  52.534679 -0.010368  ...        NaN        NaN   \n",
      "3  16.201321  27.769873  52.537842 -0.006824  ...        NaN        NaN   \n",
      "4  16.199764  27.763958  52.543060 -0.003730  ...        NaN        NaN   \n",
      "\n",
      "   away_25_x  away_25_y  home_26_x  home_26_y  away_3_x  away_3_y  away_15_x  \\\n",
      "0        NaN        NaN        NaN        NaN       NaN       NaN        NaN   \n",
      "1        NaN        NaN        NaN        NaN       NaN       NaN        NaN   \n",
      "2        NaN        NaN        NaN        NaN       NaN       NaN        NaN   \n",
      "3        NaN        NaN        NaN        NaN       NaN       NaN        NaN   \n",
      "4        NaN        NaN        NaN        NaN       NaN       NaN        NaN   \n",
      "\n",
      "   away_15_y  \n",
      "0        NaN  \n",
      "1        NaN  \n",
      "2        NaN  \n",
      "3        NaN  \n",
      "4        NaN  \n",
      "\n",
      "[5 rows x 99 columns]\n"
     ]
    }
   ],
   "source": [
    "print(labels_df.head())\n",
    "print(df.head())"
   ]
  },
  {
   "cell_type": "code",
   "execution_count": 9,
   "metadata": {},
   "outputs": [],
   "source": [
    "df_joined = pd.merge(\n",
    "    df,\n",
    "    labels_df,\n",
    "    how=\"left\",\n",
    "    left_on=[\"Time [s]_team\", \"match_name\"],\n",
    "    right_on=[\"Time[s]\", \"match_name\"]\n",
    ")\n",
    "\n",
    "df_joined[\"Label\"] =df_joined[\"Label\"].fillna(\"Missing\")"
   ]
  },
  {
   "cell_type": "code",
   "execution_count": 11,
   "metadata": {},
   "outputs": [
    {
     "name": "stdout",
     "output_type": "stream",
     "text": [
      "['Missing' 'breakthrough-even' 'breakthrough-space' 'breakthrough-wb'\n",
      " 'cross-from-cb' 'run-into-space']\n"
     ]
    }
   ],
   "source": [
    "print(np.unique(df_joined[\"Label\"].to_numpy()))"
   ]
  }
 ],
 "metadata": {
  "kernelspec": {
   "display_name": "DBU",
   "language": "python",
   "name": "python3"
  },
  "language_info": {
   "codemirror_mode": {
    "name": "ipython",
    "version": 3
   },
   "file_extension": ".py",
   "mimetype": "text/x-python",
   "name": "python",
   "nbconvert_exporter": "python",
   "pygments_lexer": "ipython3",
   "version": "3.10.11"
  }
 },
 "nbformat": 4,
 "nbformat_minor": 2
}
