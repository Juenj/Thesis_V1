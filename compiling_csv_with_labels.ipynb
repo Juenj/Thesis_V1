{
 "cells": [
  {
   "cell_type": "code",
   "execution_count": 1,
   "metadata": {},
   "outputs": [],
   "source": [
    "from libs.data_manipulation import *"
   ]
  },
  {
   "cell_type": "code",
   "execution_count": 2,
   "metadata": {},
   "outputs": [],
   "source": [
    "df = compile_team_tracking_data(\"data\", \"Denmark\")\n",
    "\n",
    "labels_df = pd.read_csv(\"data/Labelled_ground_truths.csv\")\n"
   ]
  },
  {
   "cell_type": "code",
   "execution_count": 3,
   "metadata": {},
   "outputs": [
    {
     "data": {
      "text/html": [
       "<div>\n",
       "<style scoped>\n",
       "    .dataframe tbody tr th:only-of-type {\n",
       "        vertical-align: middle;\n",
       "    }\n",
       "\n",
       "    .dataframe tbody tr th {\n",
       "        vertical-align: top;\n",
       "    }\n",
       "\n",
       "    .dataframe thead th {\n",
       "        text-align: right;\n",
       "    }\n",
       "</style>\n",
       "<table border=\"1\" class=\"dataframe\">\n",
       "  <thead>\n",
       "    <tr style=\"text-align: right;\">\n",
       "      <th></th>\n",
       "      <th>Label</th>\n",
       "      <th>Time[s]</th>\n",
       "      <th>match_name</th>\n",
       "      <th>Competition</th>\n",
       "    </tr>\n",
       "  </thead>\n",
       "  <tbody>\n",
       "    <tr>\n",
       "      <th>0</th>\n",
       "      <td>1v1</td>\n",
       "      <td>365.0</td>\n",
       "      <td>\"Germany_Denmark\"</td>\n",
       "      <td>\"EURO2024\"</td>\n",
       "    </tr>\n",
       "    <tr>\n",
       "      <th>1</th>\n",
       "      <td>1v1</td>\n",
       "      <td>314.0</td>\n",
       "      <td>\"Denmark_Serbia\"</td>\n",
       "      <td>\"EURO2024\"</td>\n",
       "    </tr>\n",
       "    <tr>\n",
       "      <th>2</th>\n",
       "      <td>breakthrough-even</td>\n",
       "      <td>1560.0</td>\n",
       "      <td>\"Denmark_Slovenia\"</td>\n",
       "      <td>\"EURO2024\"</td>\n",
       "    </tr>\n",
       "    <tr>\n",
       "      <th>3</th>\n",
       "      <td>breakthrough-even</td>\n",
       "      <td>1920.0</td>\n",
       "      <td>\"Denmark_Slovenia\"</td>\n",
       "      <td>\"EURO2024\"</td>\n",
       "    </tr>\n",
       "    <tr>\n",
       "      <th>4</th>\n",
       "      <td>breakthrough-even</td>\n",
       "      <td>3309.0</td>\n",
       "      <td>\"Denmark_Slovenia\"</td>\n",
       "      <td>\"EURO2024\"</td>\n",
       "    </tr>\n",
       "  </tbody>\n",
       "</table>\n",
       "</div>"
      ],
      "text/plain": [
       "               Label  Time[s]           match_name  Competition\n",
       "0                1v1    365.0    \"Germany_Denmark\"   \"EURO2024\"\n",
       "1                1v1    314.0     \"Denmark_Serbia\"   \"EURO2024\"\n",
       "2  breakthrough-even   1560.0   \"Denmark_Slovenia\"   \"EURO2024\"\n",
       "3  breakthrough-even   1920.0   \"Denmark_Slovenia\"   \"EURO2024\"\n",
       "4  breakthrough-even   3309.0   \"Denmark_Slovenia\"   \"EURO2024\""
      ]
     },
     "execution_count": 3,
     "metadata": {},
     "output_type": "execute_result"
    }
   ],
   "source": [
    "labels_df[\"Time[s]\"] = labels_df[\"Time[s]\"].apply(lambda x: float(int(x[:-4]) * 60 + int(x[-2:])))\n",
    "labels_df.head()"
   ]
  },
  {
   "cell_type": "code",
   "execution_count": 7,
   "metadata": {},
   "outputs": [
    {
     "name": "stdout",
     "output_type": "stream",
     "text": [
      "574503\n",
      "29\n"
     ]
    }
   ],
   "source": [
    "print(len(df.index))\n",
    "print(len(labels_df.index))"
   ]
  },
  {
   "cell_type": "code",
   "execution_count": 4,
   "metadata": {},
   "outputs": [],
   "source": [
    "df_joined = pd.merge(\n",
    "    df,\n",
    "    labels_df,\n",
    "    left_on=[\"Time [s]_team\", \"match_name\"],\n",
    "    right_on=[\"Time[s]\", \"match_name\"]\n",
    ")"
   ]
  },
  {
   "cell_type": "code",
   "execution_count": 5,
   "metadata": {},
   "outputs": [
    {
     "name": "stdout",
     "output_type": "stream",
     "text": [
      "Empty DataFrame\n",
      "Columns: [Time [s]_team, half_team, minute_team, Period_team, home_6_x, home_6_y, home_18_x, home_18_y, home_1_x, home_1_y, home_10_x, home_10_y, home_3_x, home_3_y, home_2_x, home_2_y, home_19_x, home_19_y, home_21_x, home_21_y, home_9_x, home_9_y, home_17_x, home_17_y, home_23_x, home_23_y, home_20_x, home_20_y, home_15_x, home_15_y, home_8_x, home_8_y, home_5_x, home_5_y, home_12_x, home_12_y, ball_x_team, ball_y_team, ball_z_team, Time [s], half, minute, Period, away_10_x, away_10_y, away_2_x, away_2_y, away_17_x, away_17_y, away_22_x, away_22_y, away_9_x, away_9_y, away_1_x, away_1_y, away_20_x, away_20_y, away_21_x, away_21_y, away_11_x, away_11_y, away_13_x, away_13_y, away_6_x, away_6_y, away_7_x, away_7_y, away_5_x, away_5_y, away_14_x, away_14_y, away_23_x, away_23_y, away_19_x, away_19_y, ball_x, ball_y, ball_z, match_name, home_14_x, home_14_y, home_11_x, home_11_y, away_8_x, away_8_y, away_12_x, away_12_y, away_4_x, away_4_y, away_16_x, away_16_y, away_25_x, away_25_y, home_26_x, home_26_y, away_3_x, away_3_y, away_15_x, away_15_y, Label, ...]\n",
      "Index: []\n",
      "\n",
      "[0 rows x 102 columns]\n"
     ]
    }
   ],
   "source": [
    "print(df_joined.head())"
   ]
  }
 ],
 "metadata": {
  "kernelspec": {
   "display_name": "DBU",
   "language": "python",
   "name": "python3"
  },
  "language_info": {
   "codemirror_mode": {
    "name": "ipython",
    "version": 3
   },
   "file_extension": ".py",
   "mimetype": "text/x-python",
   "name": "python",
   "nbconvert_exporter": "python",
   "pygments_lexer": "ipython3",
   "version": "3.10.11"
  }
 },
 "nbformat": 4,
 "nbformat_minor": 2
}
