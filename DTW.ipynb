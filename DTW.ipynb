{
 "cells": [
  {
   "cell_type": "code",
   "execution_count": 2,
   "metadata": {},
   "outputs": [],
   "source": [
    "#from libs.prefect_helpers import *\n",
    "from libs.data_manipulation import *\n",
    "from libs.feature_generation import *\n",
    "from libs.dim_reduction import *\n",
    "from libs.football_plots import *\n",
    "from libs.clustering import *\n",
    "from libs.convex_hull import *\n",
    "\n",
    "import matplotlib.pyplot as plt\n",
    "from sklearn.neighbors import KDTree\n",
    "from libs.InteractivePitchUI import InteractivePitch, PitchDisplay\n",
    "\n",
    "from mplsoccer import *\n",
    "import pandas as pd\n",
    "import numpy as np\n",
    "import os\n",
    "# Click player into the pitch and take those player and apply Ripleys K to them. And then maybe PCA\n"
   ]
  },
  {
   "cell_type": "code",
   "execution_count": null,
   "metadata": {},
   "outputs": [],
   "source": [
    "# Step 6: Extract match data from tracking data\n",
    "data = compile_team_tracking_data(\"data/H_EURO2024GERMANY\", \"Denmark\")\n",
    "print(data.head())\n",
    "one_match = extract_one_match(data, 4)\n"
   ]
  },
  {
   "cell_type": "code",
   "execution_count": null,
   "metadata": {},
   "outputs": [],
   "source": [
    "one_match = one_match[one_match['match_name'] == 'Denmark_England'].reset_index(drop=True)"
   ]
  },
  {
   "cell_type": "code",
   "execution_count": null,
   "metadata": {},
   "outputs": [
    {
     "ename": "NameError",
     "evalue": "name 'one_match' is not defined",
     "output_type": "error",
     "traceback": [
      "\u001b[1;31m---------------------------------------------------------------------------\u001b[0m",
      "\u001b[1;31mNameError\u001b[0m                                 Traceback (most recent call last)",
      "Cell \u001b[1;32mIn[1], line 50\u001b[0m\n\u001b[0;32m     47\u001b[0m     plt\u001b[38;5;241m.\u001b[39mshow()\n\u001b[0;32m     49\u001b[0m \u001b[38;5;66;03m# Extract two ball trajectories for comparison\u001b[39;00m\n\u001b[1;32m---> 50\u001b[0m trajectory_a \u001b[38;5;241m=\u001b[39m \u001b[43mone_match\u001b[49m[[\u001b[38;5;124m\"\u001b[39m\u001b[38;5;124mball_x\u001b[39m\u001b[38;5;124m\"\u001b[39m, \u001b[38;5;124m\"\u001b[39m\u001b[38;5;124mball_y\u001b[39m\u001b[38;5;124m\"\u001b[39m]]\u001b[38;5;241m.\u001b[39mvalues\n\u001b[0;32m     51\u001b[0m trajectory_b \u001b[38;5;241m=\u001b[39m one_match[[\u001b[38;5;124m\"\u001b[39m\u001b[38;5;124mball_x\u001b[39m\u001b[38;5;124m\"\u001b[39m, \u001b[38;5;124m\"\u001b[39m\u001b[38;5;124mball_y\u001b[39m\u001b[38;5;124m\"\u001b[39m]]\u001b[38;5;241m.\u001b[39mvalues\n\u001b[0;32m     53\u001b[0m \u001b[38;5;66;03m# Set time interval for comparison\u001b[39;00m\n",
      "\u001b[1;31mNameError\u001b[0m: name 'one_match' is not defined"
     ]
    }
   ],
   "source": [
    "import numpy as np\n",
    "import matplotlib.pyplot as plt\n",
    "from scipy.spatial.distance import euclidean\n",
    "from fastdtw import fastdtw\n",
    "\n",
    "def plot_trajectory_alignment(trajectory_a, trajectory_b, method=\"dtw\"):\n",
    "    \"\"\"\n",
    "    Plots the alignment of two ball trajectories using either Dynamic Time Warping (DTW) \n",
    "    or Euclidean Distance.\n",
    "\n",
    "    Parameters:\n",
    "        trajectory_a (np.ndarray): First trajectory as a 2D array of shape (n, 2).\n",
    "        trajectory_b (np.ndarray): Second trajectory as a 2D array of shape (m, 2).\n",
    "        method (str): Alignment method - \"dtw\" for Dynamic Time Warping, \"euclidean\" for Euclidean Distance.\n",
    "    \"\"\"\n",
    "    if method == \"dtw\":\n",
    "        # Compute DTW alignment using Euclidean distance\n",
    "        distance, path = fastdtw(trajectory_a, trajectory_b, dist=euclidean)\n",
    "        title = f\"Dynamic Time Warping Alignment \"\n",
    "    elif method == \"euclidean\":\n",
    "        # Ensure both trajectories have the same length by truncating the longer one\n",
    "        min_len = min(len(trajectory_a), len(trajectory_b))\n",
    "        trajectory_a = trajectory_a[:min_len]\n",
    "        trajectory_b = trajectory_b[:min_len]\n",
    "        path = [(i, i) for i in range(min_len)]  # Align indices one-to-one\n",
    "        distance = sum(euclidean(trajectory_a[i], trajectory_b[i]) for i in range(min_len))\n",
    "        title = f\"Euclidean Distance Alignment \"\n",
    "    else:\n",
    "        raise ValueError(\"Invalid method. Choose 'dtw' or 'euclidean'.\")\n",
    "    \n",
    "    # Plot trajectories\n",
    "    plt.figure(figsize=(10, 6))\n",
    "    x_a, y_a = trajectory_a[:, 0], trajectory_a[:, 1]\n",
    "    x_b, y_b = trajectory_b[:, 0], trajectory_b[:, 1]\n",
    "    plt.plot(x_a, y_a, 'bo-', label=\"Trajectory A (Reference)\")\n",
    "    plt.plot(x_b, y_b, 'ro-', label=\"Trajectory B (Comparison)\")\n",
    "    \n",
    "    # Plot alignment lines\n",
    "    for (i, j) in path:\n",
    "        plt.plot([x_a[i], x_b[j]], [y_a[i], y_b[j]], 'k--', alpha=0.6)\n",
    "    \n",
    "    plt.legend()\n",
    "    plt.title(title)\n",
    "    plt.xlabel(\"X Position\")\n",
    "    plt.ylabel(\"Y Position\")\n",
    "    plt.grid()\n",
    "    plt.show()\n",
    "\n",
    "# Extract two ball trajectories for comparison\n",
    "trajectory_a = one_match[[\"ball_x\", \"ball_y\"]].values\n",
    "trajectory_b = one_match[[\"ball_x\", \"ball_y\"]].values\n",
    "\n",
    "# Set time interval for comparison\n",
    "start_time, end_time = 30576, 30596\n",
    "start_time1, end_time1 = 44544, 44553\n",
    "\n",
    "trajectory_a = trajectory_a[start_time:end_time]\n",
    "trajectory_b = trajectory_b[start_time1:end_time1]\n",
    "\n",
    "trajectory_a = trajectory_a - trajectory_a[0]\n",
    "trajectory_b = trajectory_b - trajectory_b[0]\n",
    "print(trajectory_a)\n",
    "print(trajectory_b)\n",
    "# Plot using DTW\n",
    "plot_trajectory_alignment(trajectory_a, trajectory_b, method=\"dtw\")\n",
    "\n",
    "# Plot using Euclidean Distance\n",
    "plot_trajectory_alignment(trajectory_a, trajectory_b, method=\"euclidean\")\n",
    " "
   ]
  },
  {
   "cell_type": "code",
   "execution_count": null,
   "metadata": {},
   "outputs": [],
   "source": []
  }
 ],
 "metadata": {
  "kernelspec": {
   "display_name": "Python 3",
   "language": "python",
   "name": "python3"
  },
  "language_info": {
   "codemirror_mode": {
    "name": "ipython",
    "version": 3
   },
   "file_extension": ".py",
   "mimetype": "text/x-python",
   "name": "python",
   "nbconvert_exporter": "python",
   "pygments_lexer": "ipython3",
   "version": "3.11.9"
  }
 },
 "nbformat": 4,
 "nbformat_minor": 2
}
