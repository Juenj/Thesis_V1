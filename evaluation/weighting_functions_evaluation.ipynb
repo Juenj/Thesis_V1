{
 "cells": [
  {
   "cell_type": "code",
   "execution_count": 1,
   "metadata": {},
   "outputs": [
    {
     "name": "stderr",
     "output_type": "stream",
     "text": [
      "/home/martin/.local/lib/python3.10/site-packages/requests/__init__.py:109: RequestsDependencyWarning: urllib3 (2.2.3) or chardet (None)/charset_normalizer (2.1.0) doesn't match a supported version!\n",
      "  warnings.warn(\n"
     ]
    }
   ],
   "source": [
    "import sys\n",
    "sys.path.append(\"..\")\n",
    "\n",
    "from libs.data_manipulation import *\n",
    "from libs.dim_reduction import *\n",
    "from libs.feature_generation import *\n",
    "from libs.clustering import *\n",
    "from libs.convex_hull import *\n",
    "from libs.alpha_shape import *\n",
    "from libs.weight_generator import *"
   ]
  },
  {
   "cell_type": "code",
   "execution_count": null,
   "metadata": {},
   "outputs": [],
   "source": []
  },
  {
   "cell_type": "code",
   "execution_count": 2,
   "metadata": {},
   "outputs": [],
   "source": [
    "time_of_selected_moment = 42.24"
   ]
  },
  {
   "cell_type": "code",
   "execution_count": 3,
   "metadata": {},
   "outputs": [],
   "source": [
    "england_df = compile_team_tracking_data(\"../data\",\"England\")\n"
   ]
  },
  {
   "cell_type": "code",
   "execution_count": 4,
   "metadata": {},
   "outputs": [],
   "source": [
    "data_df = extract_one_match(england_df, 4)\n",
    "original_df = data_df "
   ]
  },
  {
   "cell_type": "code",
   "execution_count": null,
   "metadata": {},
   "outputs": [],
   "source": []
  },
  {
   "cell_type": "code",
   "execution_count": 5,
   "metadata": {},
   "outputs": [],
   "source": [
    "first_match = data_df[data_df[\"match_id\"] == 1]\n",
    "index_of_corner = first_match[first_match[\"Time [s]\"].between(time_of_corner-1, time_of_corner+1)].index[0]"
   ]
  },
  {
   "cell_type": "code",
   "execution_count": 6,
   "metadata": {},
   "outputs": [],
   "source": [
    "import pandas as pd\n",
    "import numpy as np\n",
    "\n",
    "def filter_by_ball_radius(data, index, radius):\n",
    "    # Get the ball position at the specified index\n",
    "    ref_ball_x = data.at[index, 'ball_x_team']\n",
    "    ref_ball_y = data.at[index, 'ball_y_team']\n",
    "    \n",
    "    # Calculate the distance of each row's ball position from the reference position\n",
    "    distances = np.sqrt((data['ball_x_team'] - ref_ball_x)**2 + (data['ball_y_team'] - ref_ball_y)**2)\n",
    "    \n",
    "    # Filter rows where the distance is less than or equal to the radius\n",
    "    filtered_data = data[distances <= radius]\n",
    "    \n",
    "    return filtered_data\n"
   ]
  },
  {
   "cell_type": "code",
   "execution_count": 7,
   "metadata": {},
   "outputs": [],
   "source": [
    "data_df = filter_by_ball_radius(data_df, index_of_corner, 5)"
   ]
  },
  {
   "cell_type": "code",
   "execution_count": 8,
   "metadata": {},
   "outputs": [
    {
     "name": "stdout",
     "output_type": "stream",
     "text": [
      "5003\n"
     ]
    }
   ],
   "source": [
    "print(len(data_df))"
   ]
  },
  {
   "cell_type": "code",
   "execution_count": 9,
   "metadata": {},
   "outputs": [],
   "source": [
    "function_1 = lambda x : 200 - x\n",
    "function_2 = lambda x : 1/x\n",
    "function_3 = lambda x : np.exp((-x/40))"
   ]
  },
  {
   "cell_type": "code",
   "execution_count": 10,
   "metadata": {},
   "outputs": [
    {
     "name": "stdout",
     "output_type": "stream",
     "text": [
      "        home_6_x   home_6_y   home_1_x  home_1_y  home_10_x  home_10_y  \\\n",
      "540   -37.290260  -2.787178 -50.764545 -1.079776  -4.526245  -1.828018   \n",
      "1033  -32.727360  17.328987 -43.066631  0.523623  -8.191053 -12.775763   \n",
      "1081  -32.186218  15.369570 -43.013371  0.566434  -7.459801 -13.612037   \n",
      "17568 -25.659166   9.012510 -40.815754  4.207187  -4.841258   1.702055   \n",
      "23003 -22.506197  -4.969710 -39.020309 -7.534316   2.404628  -4.911590   \n",
      "\n",
      "       home_11_x  home_11_y   home_2_x   home_2_y  ...  home_24_x  home_24_y  \\\n",
      "540   -25.677553   5.612628 -32.465500 -19.529156  ...        NaN        NaN   \n",
      "1033   -1.222537  24.914318 -18.485426 -24.229918  ...        NaN        NaN   \n",
      "1081    0.662110  24.961201 -18.246439 -26.137337  ...        NaN        NaN   \n",
      "17568   1.324650  28.230032 -12.639800 -21.451822  ...        NaN        NaN   \n",
      "23003   8.065908  21.101599  -8.858491 -33.057400  ...        NaN        NaN   \n",
      "\n",
      "       home_17_x  home_17_y  home_14_x  home_14_y  home_3_x  home_3_y  \\\n",
      "540          NaN        NaN        NaN        NaN       NaN       NaN   \n",
      "1033         NaN        NaN        NaN        NaN       NaN       NaN   \n",
      "1081         NaN        NaN        NaN        NaN       NaN       NaN   \n",
      "17568        NaN        NaN        NaN        NaN       NaN       NaN   \n",
      "23003        NaN        NaN        NaN        NaN       NaN       NaN   \n",
      "\n",
      "       ball_x_team  ball_y_team  \n",
      "540     -26.078809   -12.710450  \n",
      "1033    -28.550238    -9.379456  \n",
      "1081    -27.850288   -10.407698  \n",
      "17568   -25.509709    -5.430423  \n",
      "23003   -30.926369   -10.680468  \n",
      "\n",
      "[5 rows x 44 columns]\n",
      "         home_6_x   home_6_y  home_1_x  home_1_y  home_10_x  home_10_y  \\\n",
      "156762  11.551479 -15.213993  36.33923 -3.907271 -25.762377 -14.318997   \n",
      "\n",
      "        home_11_x  home_11_y  home_2_x   home_2_y  ...  home_24_x  home_24_y  \\\n",
      "156762 -10.481162  -25.78583   6.59945  15.126034  ...        NaN        NaN   \n",
      "\n",
      "        home_17_x  home_17_y  home_14_x  home_14_y  home_3_x  home_3_y  \\\n",
      "156762        NaN        NaN        NaN        NaN       NaN       NaN   \n",
      "\n",
      "        ball_x_team  ball_y_team  \n",
      "156762   -29.788852   -13.054371  \n",
      "\n",
      "[1 rows x 44 columns]\n",
      "[0.09090909090909091, 0.09090909090909091, 0.09090909090909091, 0.09090909090909091, 0.09090909090909091, 0.09090909090909091, 0.09090909090909091, 0.09090909090909091, 0.09090909090909091, 0.09090909090909091, 0.09090909090909091, 0.0]\n",
      "        home_6_x   home_6_y   home_1_x  home_1_y  home_10_x  home_10_y  \\\n",
      "540   -37.290260  -2.787178 -50.764545 -1.079776  -4.526245  -1.828018   \n",
      "1033  -32.727360  17.328987 -43.066631  0.523623  -8.191053 -12.775763   \n",
      "1081  -32.186218  15.369570 -43.013371  0.566434  -7.459801 -13.612037   \n",
      "17568 -25.659166   9.012510 -40.815754  4.207187  -4.841258   1.702055   \n",
      "23003 -22.506197  -4.969710 -39.020309 -7.534316   2.404628  -4.911590   \n",
      "\n",
      "       home_11_x  home_11_y   home_2_x   home_2_y  ...  home_24_x  home_24_y  \\\n",
      "540   -25.677553   5.612628 -32.465500 -19.529156  ...        NaN        NaN   \n",
      "1033   -1.222537  24.914318 -18.485426 -24.229918  ...        NaN        NaN   \n",
      "1081    0.662110  24.961201 -18.246439 -26.137337  ...        NaN        NaN   \n",
      "17568   1.324650  28.230032 -12.639800 -21.451822  ...        NaN        NaN   \n",
      "23003   8.065908  21.101599  -8.858491 -33.057400  ...        NaN        NaN   \n",
      "\n",
      "       home_17_x  home_17_y  home_14_x  home_14_y  home_3_x  home_3_y  \\\n",
      "540          NaN        NaN        NaN        NaN       NaN       NaN   \n",
      "1033         NaN        NaN        NaN        NaN       NaN       NaN   \n",
      "1081         NaN        NaN        NaN        NaN       NaN       NaN   \n",
      "17568        NaN        NaN        NaN        NaN       NaN       NaN   \n",
      "23003        NaN        NaN        NaN        NaN       NaN       NaN   \n",
      "\n",
      "       ball_x_team  ball_y_team  \n",
      "540     -26.078809   -12.710450  \n",
      "1033    -28.550238    -9.379456  \n",
      "1081    -27.850288   -10.407698  \n",
      "17568   -25.509709    -5.430423  \n",
      "23003   -30.926369   -10.680468  \n",
      "\n",
      "[5 rows x 44 columns]\n",
      "         home_6_x   home_6_y  home_1_x  home_1_y  home_10_x  home_10_y  \\\n",
      "156762  11.551479 -15.213993  36.33923 -3.907271 -25.762377 -14.318997   \n",
      "\n",
      "        home_11_x  home_11_y  home_2_x   home_2_y  ...  home_24_x  home_24_y  \\\n",
      "156762 -10.481162  -25.78583   6.59945  15.126034  ...        NaN        NaN   \n",
      "\n",
      "        home_17_x  home_17_y  home_14_x  home_14_y  home_3_x  home_3_y  \\\n",
      "156762        NaN        NaN        NaN        NaN       NaN       NaN   \n",
      "\n",
      "        ball_x_team  ball_y_team  \n",
      "156762   -29.788852   -13.054371  \n",
      "\n",
      "[1 rows x 44 columns]\n",
      "[0.07209240816085732, 0.060564674832118456, 0.08863636363636364, 0.0803966334817339, 0.06998891760781507, 0.07658334281418472, 0.08695097489109566, 0.07184911619191103, 0.07287742149717955, 0.07682201503910385, 0.08155299411184586, 0.16168513773579107]\n",
      "        home_6_x   home_6_y   home_1_x  home_1_y  home_10_x  home_10_y  \\\n",
      "540   -37.290260  -2.787178 -50.764545 -1.079776  -4.526245  -1.828018   \n",
      "1033  -32.727360  17.328987 -43.066631  0.523623  -8.191053 -12.775763   \n",
      "1081  -32.186218  15.369570 -43.013371  0.566434  -7.459801 -13.612037   \n",
      "17568 -25.659166   9.012510 -40.815754  4.207187  -4.841258   1.702055   \n",
      "23003 -22.506197  -4.969710 -39.020309 -7.534316   2.404628  -4.911590   \n",
      "\n",
      "       home_11_x  home_11_y   home_2_x   home_2_y  ...  home_24_x  home_24_y  \\\n",
      "540   -25.677553   5.612628 -32.465500 -19.529156  ...        NaN        NaN   \n",
      "1033   -1.222537  24.914318 -18.485426 -24.229918  ...        NaN        NaN   \n",
      "1081    0.662110  24.961201 -18.246439 -26.137337  ...        NaN        NaN   \n",
      "17568   1.324650  28.230032 -12.639800 -21.451822  ...        NaN        NaN   \n",
      "23003   8.065908  21.101599  -8.858491 -33.057400  ...        NaN        NaN   \n",
      "\n",
      "       home_17_x  home_17_y  home_14_x  home_14_y  home_3_x  home_3_y  \\\n",
      "540          NaN        NaN        NaN        NaN       NaN       NaN   \n",
      "1033         NaN        NaN        NaN        NaN       NaN       NaN   \n",
      "1081         NaN        NaN        NaN        NaN       NaN       NaN   \n",
      "17568        NaN        NaN        NaN        NaN       NaN       NaN   \n",
      "23003        NaN        NaN        NaN        NaN       NaN       NaN   \n",
      "\n",
      "       ball_x_team  ball_y_team  \n",
      "540     -26.078809   -12.710450  \n",
      "1033    -28.550238    -9.379456  \n",
      "1081    -27.850288   -10.407698  \n",
      "17568   -25.509709    -5.430423  \n",
      "23003   -30.926369   -10.680468  \n",
      "\n",
      "[5 rows x 44 columns]\n",
      "         home_6_x   home_6_y  home_1_x  home_1_y  home_10_x  home_10_y  \\\n",
      "156762  11.551479 -15.213993  36.33923 -3.907271 -25.762377 -14.318997   \n",
      "\n",
      "        home_11_x  home_11_y  home_2_x   home_2_y  ...  home_24_x  home_24_y  \\\n",
      "156762 -10.481162  -25.78583   6.59945  15.126034  ...        NaN        NaN   \n",
      "\n",
      "        home_17_x  home_17_y  home_14_x  home_14_y  home_3_x  home_3_y  \\\n",
      "156762        NaN        NaN        NaN        NaN       NaN       NaN   \n",
      "\n",
      "        ball_x_team  ball_y_team  \n",
      "156762   -29.788852   -13.054371  \n",
      "\n",
      "[1 rows x 44 columns]\n",
      "[0.002196046699754552, 0.0013617765438216868, 0.02154039391718664, 0.003930794900729107, 0.001975237654798333, 0.002884478616811626, 0.010439894601805067, 0.0021680151554629577, 0.0022916521540867455, 0.002933349293420449, 0.004416618911184663, 0.9438617415509382]\n",
      "        home_6_x   home_6_y   home_1_x  home_1_y  home_10_x  home_10_y  \\\n",
      "540   -37.290260  -2.787178 -50.764545 -1.079776  -4.526245  -1.828018   \n",
      "1033  -32.727360  17.328987 -43.066631  0.523623  -8.191053 -12.775763   \n",
      "1081  -32.186218  15.369570 -43.013371  0.566434  -7.459801 -13.612037   \n",
      "17568 -25.659166   9.012510 -40.815754  4.207187  -4.841258   1.702055   \n",
      "23003 -22.506197  -4.969710 -39.020309 -7.534316   2.404628  -4.911590   \n",
      "\n",
      "       home_11_x  home_11_y   home_2_x   home_2_y  ...  home_24_x  home_24_y  \\\n",
      "540   -25.677553   5.612628 -32.465500 -19.529156  ...        NaN        NaN   \n",
      "1033   -1.222537  24.914318 -18.485426 -24.229918  ...        NaN        NaN   \n",
      "1081    0.662110  24.961201 -18.246439 -26.137337  ...        NaN        NaN   \n",
      "17568   1.324650  28.230032 -12.639800 -21.451822  ...        NaN        NaN   \n",
      "23003   8.065908  21.101599  -8.858491 -33.057400  ...        NaN        NaN   \n",
      "\n",
      "       home_17_x  home_17_y  home_14_x  home_14_y  home_3_x  home_3_y  \\\n",
      "540          NaN        NaN        NaN        NaN       NaN       NaN   \n",
      "1033         NaN        NaN        NaN        NaN       NaN       NaN   \n",
      "1081         NaN        NaN        NaN        NaN       NaN       NaN   \n",
      "17568        NaN        NaN        NaN        NaN       NaN       NaN   \n",
      "23003        NaN        NaN        NaN        NaN       NaN       NaN   \n",
      "\n",
      "       ball_x_team  ball_y_team  \n",
      "540     -26.078809   -12.710450  \n",
      "1033    -28.550238    -9.379456  \n",
      "1081    -27.850288   -10.407698  \n",
      "17568   -25.509709    -5.430423  \n",
      "23003   -30.926369   -10.680468  \n",
      "\n",
      "[5 rows x 44 columns]\n",
      "         home_6_x   home_6_y  home_1_x  home_1_y  home_10_x  home_10_y  \\\n",
      "156762  11.551479 -15.213993  36.33923 -3.907271 -25.762377 -14.318997   \n",
      "\n",
      "        home_11_x  home_11_y  home_2_x   home_2_y  ...  home_24_x  home_24_y  \\\n",
      "156762 -10.481162  -25.78583   6.59945  15.126034  ...        NaN        NaN   \n",
      "\n",
      "        home_17_x  home_17_y  home_14_x  home_14_y  home_3_x  home_3_y  \\\n",
      "156762        NaN        NaN        NaN        NaN       NaN       NaN   \n",
      "\n",
      "        ball_x_team  ball_y_team  \n",
      "156762   -29.788852   -13.054371  \n",
      "\n",
      "[1 rows x 44 columns]\n",
      "[0.03229597001254103, 0.01713146998176054, 0.08180595101587697, 0.050992310542437226, 0.028767620734519998, 0.04134468436478395, 0.07312451150045346, 0.031866694242486726, 0.03372091232026048, 0.04189099273671425, 0.054340765022222404, 0.512718117525943]\n"
     ]
    }
   ],
   "source": [
    "\n",
    "control_results = most_similar_with_wasserstein(index_of_corner, data_df, lambda x:1,normalizing_factor=12)\n",
    "function_1_results = most_similar_with_wasserstein(index_of_corner, data_df, function_1,normalizing_factor= 2200, max_weight=195)\n",
    "function_2_results = most_similar_with_wasserstein(index_of_corner, data_df, function_2,max_weight=1)\n",
    "function_3_results = most_similar_with_wasserstein(index_of_corner, data_df, function_3,max_weight=1)\n",
    "\n"
   ]
  },
  {
   "cell_type": "code",
   "execution_count": 11,
   "metadata": {},
   "outputs": [
    {
     "name": "stdout",
     "output_type": "stream",
     "text": [
      "[481242, 477395, 222301, 265515, 394948, 481290, 337923, 323890, 651197, 91232, 348260, 651431, 23003, 449717, 637192, 520910, 370259, 140606, 520862, 589481, 359590, 642323, 177639, 520814, 386893, 61086, 449765, 477443, 637144, 520766, 449813, 520976, 24942, 503606, 387028, 129623, 433976, 392868, 368724, 305542, 449861, 642371, 521024, 284428, 324416, 386367, 324272, 618109, 180863, 361717, 449909, 284476, 387076, 295216, 402011, 457012, 370387, 60071, 637096, 305590, 1081, 358193, 628165, 291000, 295168, 303660, 17568, 1033, 361175, 60023, 358241, 361467, 309609, 242743, 410537, 542195, 314167, 37024, 314215, 265712, 224622, 102543, 54088, 170458, 509801, 154060, 229853, 231325, 518585, 540, 453828, 520396, 520348, 66714, 110394, 215007, 31756, 518895, 443561, 31671, 31623, 576375, 576229, 301153, 102126]\n"
     ]
    }
   ],
   "source": [
    "print(function_1_results)"
   ]
  },
  {
   "cell_type": "code",
   "execution_count": 12,
   "metadata": {},
   "outputs": [],
   "source": [
    "\n",
    "\n",
    "rip_k_corner = ripley_k_by_indices(data_df, [index_of_corner])\n",
    "rip_k_whole_match = ripley_k_by_indices(data_df.iloc[::48], data_df.iloc[::48].index.to_numpy())"
   ]
  },
  {
   "cell_type": "code",
   "execution_count": 13,
   "metadata": {},
   "outputs": [],
   "source": [
    "rip_k_control = ripley_k_by_indices(data_df, control_results[:10])\n",
    "rip_k_function_1 = ripley_k_by_indices(data_df, function_1_results[:10])\n",
    "rip_k_function_2 = ripley_k_by_indices(data_df, function_2_results[:10])\n",
    "rip_k_function_3 = ripley_k_by_indices(data_df, function_3_results[:10])"
   ]
  },
  {
   "cell_type": "code",
   "execution_count": 14,
   "metadata": {},
   "outputs": [
    {
     "name": "stdout",
     "output_type": "stream",
     "text": [
      "here\n",
      "here\n",
      "here\n",
      "here\n",
      "here\n",
      "here\n"
     ]
    },
    {
     "data": {
      "image/png": "[encoded data removed]",
      "text/plain": [
       "<Figure size 640x480 with 1 Axes>"
      ]
     },
     "metadata": {},
     "output_type": "display_data"
    }
   ],
   "source": [
    "pca_obj = PCAObject(rip_k_whole_match)\n",
    "\n",
    "components_match = pca_obj.transform(rip_k_whole_match)\n",
    "components_corner = pca_obj.transform(rip_k_corner)\n",
    "components_control = pca_obj.transform(rip_k_control)\n",
    "components_func_1 = pca_obj.transform(rip_k_function_1)\n",
    "components_func_2 = pca_obj.transform(rip_k_function_2)\n",
    "components_func_3 = pca_obj.transform(rip_k_function_3)\n",
    "\n",
    "\n",
    "\n",
    "plt.scatter(components_match[:,0],components_match[:,1])\n",
    "plt.scatter(components_func_1[:,0], components_func_1[:,1])\n",
    "plt.scatter(components_func_2[:,0], components_func_2[:,1])\n",
    "plt.scatter(components_func_3[:,0], components_func_3[:,1])\n",
    "plt.scatter(components_control[:,0],components_control[:,1])\n",
    "plt.scatter(components_corner[:,0], components_corner[:,1])\n",
    "plt.show()\n"
   ]
  },
  {
   "cell_type": "code",
   "execution_count": 17,
   "metadata": {},
   "outputs": [
    {
     "name": "stdout",
     "output_type": "stream",
     "text": [
      "Folder 'function_1_top_10' has been removed successfully.\n",
      "Folder 'function_2_top_10' has been removed successfully.\n",
      "Folder 'function_3_top_10' has been removed successfully.\n",
      "Folder 'control_top_10' has been removed successfully.\n",
      "Folder 'target_situation' has been removed successfully.\n"
     ]
    }
   ],
   "source": [
    "generate_folder(\"function_1_top_10\")\n",
    "generate_folder(\"function_2_top_10\")\n",
    "generate_folder(\"function_3_top_10\")\n",
    "generate_folder(\"control_top_10\")\n",
    "generate_folder(\"target_situation\")\n",
    "k=10\n",
    "\n",
    "generate_pitches_from_start_indices(function_1_results[:k], original_df, \"function_1_top_10\",1, 1)\n",
    "generate_pitches_from_start_indices(function_2_results[:k], original_df, \"function_2_top_10\",1, 1)\n",
    "generate_pitches_from_start_indices(function_3_results[:k], original_df, \"function_3_top_10\",1, 1)\n",
    "generate_pitches_from_start_indices(control_results[:k], original_df,\"control_top_10\",1,1)\n",
    "generate_pitches_from_start_indices([index_of_corner], original_df, \"target_situation\",1, 1)\n"
   ]
  }
 ],
 "metadata": {
  "kernelspec": {
   "display_name": "DBU",
   "language": "python",
   "name": "python3"
  },
  "language_info": {
   "codemirror_mode": {
    "name": "ipython",
    "version": 3
   },
   "file_extension": ".py",
   "mimetype": "text/x-python",
   "name": "python",
   "nbconvert_exporter": "python",
   "pygments_lexer": "ipython3",
   "version": "3.10.11"
  }
 },
 "nbformat": 4,
 "nbformat_minor": 2
}
