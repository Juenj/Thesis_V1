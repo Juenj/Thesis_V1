{
 "cells": [
  {
   "cell_type": "code",
   "execution_count": 1,
   "metadata": {},
   "outputs": [
    {
     "name": "stderr",
     "output_type": "stream",
     "text": [
      "/home/martin/.local/lib/python3.10/site-packages/requests/__init__.py:109: RequestsDependencyWarning: urllib3 (2.2.3) or chardet (None)/charset_normalizer (2.1.0) doesn't match a supported version!\n",
      "  warnings.warn(\n"
     ]
    }
   ],
   "source": [
    "import sys\n",
    "sys.path.append(\"..\")\n",
    "\n",
    "from libs.InteractivePitchUI import *\n",
    "from libs.data_manipulation import *\n",
    "from libs.dim_reduction import *\n",
    "from libs.feature_generation import *\n",
    "from libs.clustering import *\n",
    "from libs.convex_hull import *\n",
    "from libs.alpha_shape import *\n",
    "from libs.weight_generator import *\n",
    "from libs.similar_movement import *\n",
    "from libs.Video_Player import *"
   ]
  },
  {
   "cell_type": "code",
   "execution_count": 2,
   "metadata": {},
   "outputs": [
    {
     "name": "stdout",
     "output_type": "stream",
     "text": [
      "Index(['Time [s]_team', 'half_team', 'minute_team', 'Period_team', 'home_6_x',\n",
      "       'home_6_y', 'home_18_x', 'home_18_y', 'home_1_x', 'home_1_y',\n",
      "       'home_10_x', 'home_10_y', 'home_3_x', 'home_3_y', 'home_2_x',\n",
      "       'home_2_y', 'home_19_x', 'home_19_y', 'home_21_x', 'home_21_y',\n",
      "       'home_9_x', 'home_9_y', 'home_17_x', 'home_17_y', 'home_23_x',\n",
      "       'home_23_y', 'home_20_x', 'home_20_y', 'home_15_x', 'home_15_y',\n",
      "       'home_8_x', 'home_8_y', 'home_5_x', 'home_5_y', 'home_12_x',\n",
      "       'home_12_y', 'ball_z_team', 'Time [s]', 'half', 'minute', 'Period',\n",
      "       'away_10_x', 'away_10_y', 'away_2_x', 'away_2_y', 'away_17_x',\n",
      "       'away_17_y', 'away_22_x', 'away_22_y', 'away_9_x', 'away_9_y',\n",
      "       'away_1_x', 'away_1_y', 'away_20_x', 'away_20_y', 'away_21_x',\n",
      "       'away_21_y', 'away_11_x', 'away_11_y', 'away_13_x', 'away_13_y',\n",
      "       'away_6_x', 'away_6_y', 'away_7_x', 'away_7_y', 'away_5_x', 'away_5_y',\n",
      "       'away_14_x', 'away_14_y', 'away_23_x', 'away_23_y', 'away_19_x',\n",
      "       'away_19_y', 'ball_x', 'ball_y', 'ball_z', 'match_name', 'home_14_x',\n",
      "       'home_14_y', 'home_11_x', 'home_11_y', 'away_8_x', 'away_8_y',\n",
      "       'away_12_x', 'away_12_y', 'away_4_x', 'away_4_y', 'away_16_x',\n",
      "       'away_16_y', 'away_25_x', 'away_25_y', 'home_26_x', 'home_26_y',\n",
      "       'away_3_x', 'away_3_y', 'away_15_x', 'away_15_y'],\n",
      "      dtype='object')\n"
     ]
    }
   ],
   "source": [
    "matches = compile_team_tracking_data_with_labels(\"../data\", \"Denmark\", \"../data/Labelled_ground_truths.csv\")\n",
    "\n",
    "\n"
   ]
  },
  {
   "cell_type": "code",
   "execution_count": 3,
   "metadata": {},
   "outputs": [],
   "source": [
    "df = extract_one_match(matches,4)"
   ]
  },
  {
   "cell_type": "code",
   "execution_count": 4,
   "metadata": {},
   "outputs": [],
   "source": [
    "df = df[df[\"match_name\"] == \"Denmark_England\"]\n",
    "\n",
    "\n"
   ]
  },
  {
   "cell_type": "code",
   "execution_count": 5,
   "metadata": {},
   "outputs": [],
   "source": [
    "func_control = lambda x:1\n",
    "func_inverse = lambda x: 20/x\n",
    "func_linear = lambda x: 200-x\n",
    "func_exp = lambda x: np.exp(-x/20)"
   ]
  },
  {
   "cell_type": "code",
   "execution_count": 6,
   "metadata": {},
   "outputs": [
    {
     "data": {
      "text/plain": [
       "array(['Missing', 'run-into-space', 'breakthrough-wb',\n",
       "       'breakthrough-space', 'breakthrough-even'], dtype=object)"
      ]
     },
     "execution_count": 6,
     "metadata": {},
     "output_type": "execute_result"
    }
   ],
   "source": [
    "df.Label.unique()"
   ]
  },
  {
   "cell_type": "code",
   "execution_count": 7,
   "metadata": {},
   "outputs": [
    {
     "name": "stdout",
     "output_type": "stream",
     "text": [
      "[143547, 154347, 181797, 189572, 199447, 208722, 214138]\n",
      "Folder 'run-into-space_Denmark_England_0:00:10' does not exist.\n",
      "[169697 169649 169745 167585 167537 266753 266801 169601 241697 242129\n",
      " 252449 169793 232529 161825 161777 203681 241649 226673 220385 167489\n",
      " 203729 281105 183905 277265 284273 277313 195713 167633 203777 228401\n",
      " 169553 266849 232481 284369 266705 203825 284417 162545 221153 284321\n",
      " 220337 252497 282497 212177 232577 232673 241601 281921 281969 234449\n",
      " 232625 282017 220001 161729 212225 242417 169841 183377 195761 221105\n",
      " 281057 281873 234209 284465 195665 183329 282065 220289 284225 183425\n",
      " 162593 212129 234257 242369 232721 276881 281825 220625 282737 234401\n",
      " 251441 206369 161873 282353 276833 183857 277217 242465 276929 162161\n",
      " 206465 228449 277121 242177 284657 277073 276977 282113 277025 203873] Control\n"
     ]
    },
    {
     "name": "stderr",
     "output_type": "stream",
     "text": [
      "/tmp/ipykernel_28056/1268882290.py:85: SettingWithCopyWarning: \n",
      "A value is trying to be set on a copy of a slice from a DataFrame.\n",
      "Try using .loc[row_indexer,col_indexer] = value instead\n",
      "\n",
      "See the caveats in the documentation: https://pandas.pydata.org/pandas-docs/stable/user_guide/indexing.html#returning-a-view-versus-a-copy\n",
      "  result_df[\"Time Min\"] = result_df[\"Time [s]\"].apply(lambda x: str(datetime.timedelta(seconds=x)))\n"
     ]
    },
    {
     "name": "stdout",
     "output_type": "stream",
     "text": [
      "[266609 281057 261521 252401 241697 203825 252449 203921 220577 218753\n",
      " 203873 169889 261233 169937 266657 153473 167489 261473 167345 160289\n",
      " 167537 223889 266705 183905 268865 266561 164849 220241 162161 266753\n",
      " 211745 250289 164801 169985 172145 180689 282353 167393 167201 220193\n",
      " 162305 241649 211697 250241 203969 172193 164513 219953 167441 282977\n",
      " 226625 201905 212177 284225 234113 220625 201617 203633 220961 261425\n",
      " 183857 170033 261377 205505 183377 183425 273089 218801 183329 183569\n",
      " 183473 161249 183521 183617 183281 160241 183233 261329 162113 183665\n",
      " 212369 183185 182753 161777 183713 236129 180545 211793 211217 282449\n",
      " 183137 195713 164465 183761 205409 183809 222929 230321 268913 205457] Exp\n"
     ]
    },
    {
     "name": "stderr",
     "output_type": "stream",
     "text": [
      "/tmp/ipykernel_28056/1268882290.py:85: SettingWithCopyWarning: \n",
      "A value is trying to be set on a copy of a slice from a DataFrame.\n",
      "Try using .loc[row_indexer,col_indexer] = value instead\n",
      "\n",
      "See the caveats in the documentation: https://pandas.pydata.org/pandas-docs/stable/user_guide/indexing.html#returning-a-view-versus-a-copy\n",
      "  result_df[\"Time Min\"] = result_df[\"Time [s]\"].apply(lambda x: str(datetime.timedelta(seconds=x)))\n"
     ]
    },
    {
     "name": "stdout",
     "output_type": "stream",
     "text": [
      "[169697 169649 169745 167585 167537 266753 266801 169601 241697 242129\n",
      " 252449 169793 232529 161825 161777 203681 241649 226673 220385 167489\n",
      " 203729 281105 183905 277265 284273 277313 195713 167633 203777 228401\n",
      " 169553 266849 232481 284369 266705 203825 284417 162545 221153 284321\n",
      " 220337 252497 282497 212177 232577 232673 241601 281921 281969 234449\n",
      " 232625 282017 220001 161729 212225 242417 169841 183377 195761 221105\n",
      " 281057 281873 234209 284465 195665 183329 282065 220289 284225 183425\n",
      " 162593 212129 234257 242369 232721 276881 281825 220625 282737 234401\n",
      " 251441 206369 161873 282353 276833 183857 277217 242465 276929 162161\n",
      " 206465 228449 277121 242177 284657 277073 276977 282113 277025 203873] Linear\n"
     ]
    },
    {
     "name": "stderr",
     "output_type": "stream",
     "text": [
      "/tmp/ipykernel_28056/1268882290.py:85: SettingWithCopyWarning: \n",
      "A value is trying to be set on a copy of a slice from a DataFrame.\n",
      "Try using .loc[row_indexer,col_indexer] = value instead\n",
      "\n",
      "See the caveats in the documentation: https://pandas.pydata.org/pandas-docs/stable/user_guide/indexing.html#returning-a-view-versus-a-copy\n",
      "  result_df[\"Time Min\"] = result_df[\"Time [s]\"].apply(lambda x: str(datetime.timedelta(seconds=x)))\n"
     ]
    },
    {
     "name": "stdout",
     "output_type": "stream",
     "text": [
      "[167537 167585 266753 252449 169697 241697 167489 169745 169649 183905\n",
      " 284225 203777 203681 195713 203825 241649 169793 266705 266801 212177\n",
      " 183857 169601 169841 221153 220577 203729 203873 226673 281057 220289\n",
      " 161729 282353 232529 195761 234401 221105 241601 266561 183425 183377\n",
      " 183569 183617 183665 212129 228401 183329 221201 183473 195665 203921\n",
      " 266609 161777 284369 222977 183521 282449 277265 228449 183713 221249\n",
      " 162161 226625 220241 228497 220625 221297 277313 183281 284273 183761\n",
      " 284417 221057 266657 251393 195809 169889 183809 228545 169553 167441\n",
      " 205937 232481 212417 261281 183233 261329 161873 252401 228065 218273\n",
      " 284657 221009 205889 228881 242129 203969 251441 228593 184241 206561] Inverse\n"
     ]
    },
    {
     "name": "stderr",
     "output_type": "stream",
     "text": [
      "/tmp/ipykernel_28056/1268882290.py:85: SettingWithCopyWarning: \n",
      "A value is trying to be set on a copy of a slice from a DataFrame.\n",
      "Try using .loc[row_indexer,col_indexer] = value instead\n",
      "\n",
      "See the caveats in the documentation: https://pandas.pydata.org/pandas-docs/stable/user_guide/indexing.html#returning-a-view-versus-a-copy\n",
      "  result_df[\"Time Min\"] = result_df[\"Time [s]\"].apply(lambda x: str(datetime.timedelta(seconds=x)))\n"
     ]
    },
    {
     "name": "stdout",
     "output_type": "stream",
     "text": [
      "Folder 'breakthrough-wb_Denmark_England_0:07:22' does not exist.\n",
      "[224657 173825 173873 150593 151313 231281 231329 224609 198593 165329\n",
      " 219713 151361 231377 219761 219569 224705 171713 219617 198401 214289\n",
      " 231233 219521 173777 189041 198353 198545 265217 219665 187841 189521\n",
      " 165569 189473 198641 187793 198449 165377 188993 224849 224897 189425\n",
      " 165281 278609 198497 265265 278753 278657 189089 187745 278705 150545\n",
      " 238145 265169 171761 150641 151265 189137 175697 180353 189185 198305\n",
      " 214241 238193 151745 187889 187025 189377 219809 224801 231137 238001\n",
      " 224561 151793 188945 189233 238049 219041 209537 186977 175745 153857\n",
      " 219089 260561 238097 171665 246449 175649 231185 201185 241265 224753\n",
      " 224945 278801 260609 164081 260321 260657 172721 238241 173441 218993] Control\n"
     ]
    },
    {
     "name": "stderr",
     "output_type": "stream",
     "text": [
      "/tmp/ipykernel_28056/1268882290.py:85: SettingWithCopyWarning: \n",
      "A value is trying to be set on a copy of a slice from a DataFrame.\n",
      "Try using .loc[row_indexer,col_indexer] = value instead\n",
      "\n",
      "See the caveats in the documentation: https://pandas.pydata.org/pandas-docs/stable/user_guide/indexing.html#returning-a-view-versus-a-copy\n",
      "  result_df[\"Time Min\"] = result_df[\"Time [s]\"].apply(lambda x: str(datetime.timedelta(seconds=x)))\n"
     ]
    },
    {
     "name": "stdout",
     "output_type": "stream",
     "text": [
      "[201185 187745 246353 187697 180353 219761 278657 219713 264833 189041\n",
      " 189089 180401 187793 182273 178865 168161 222737 230417 186689 175745\n",
      " 198401 215249 186545 204881 219665 164033 144785 189473 186929 189137\n",
      " 180449 182129 264161 265121 204785 145313 274481 261809 213041 257921\n",
      " 253265 189377 224561 231281 209393 182177 213089 261857 189425 151601\n",
      " 278177 264209 144929 203201 173777 264257 186593 179009 160961 204929\n",
      " 145793 213137 197489 151217 283121 219473 165233 179153 204833 186353\n",
      " 151265 274433 209345 168593 185009 239393 168929 250049 212897 186641\n",
      " 241313 197441 165521 182081 212993 151073 186305 186881 143633 158225\n",
      " 264113 214193 259169 165281 168545 178961 198353 272753 178913 249569] Exp\n"
     ]
    },
    {
     "name": "stderr",
     "output_type": "stream",
     "text": [
      "/tmp/ipykernel_28056/1268882290.py:85: SettingWithCopyWarning: \n",
      "A value is trying to be set on a copy of a slice from a DataFrame.\n",
      "Try using .loc[row_indexer,col_indexer] = value instead\n",
      "\n",
      "See the caveats in the documentation: https://pandas.pydata.org/pandas-docs/stable/user_guide/indexing.html#returning-a-view-versus-a-copy\n",
      "  result_df[\"Time Min\"] = result_df[\"Time [s]\"].apply(lambda x: str(datetime.timedelta(seconds=x)))\n"
     ]
    },
    {
     "name": "stdout",
     "output_type": "stream",
     "text": [
      "[224657 173825 173873 150593 151313 231281 231329 224609 198593 165329\n",
      " 219713 151361 231377 219761 219569 224705 171713 219617 198401 214289\n",
      " 231233 219521 173777 189041 198353 198545 265217 219665 187841 189521\n",
      " 165569 189473 198641 187793 198449 165377 188993 224849 224897 189425\n",
      " 165281 278609 198497 265265 278753 278657 189089 187745 278705 150545\n",
      " 238145 265169 171761 150641 151265 189137 175697 180353 189185 198305\n",
      " 214241 238193 151745 187889 187025 189377 219809 224801 231137 238001\n",
      " 224561 151793 188945 189233 238049 219041 209537 186977 175745 153857\n",
      " 219089 260561 238097 171665 246449 175649 231185 201185 241265 224753\n",
      " 224945 278801 260609 164081 260321 260657 172721 238241 173441 218993] Linear\n"
     ]
    },
    {
     "name": "stderr",
     "output_type": "stream",
     "text": [
      "/tmp/ipykernel_28056/1268882290.py:85: SettingWithCopyWarning: \n",
      "A value is trying to be set on a copy of a slice from a DataFrame.\n",
      "Try using .loc[row_indexer,col_indexer] = value instead\n",
      "\n",
      "See the caveats in the documentation: https://pandas.pydata.org/pandas-docs/stable/user_guide/indexing.html#returning-a-view-versus-a-copy\n",
      "  result_df[\"Time Min\"] = result_df[\"Time [s]\"].apply(lambda x: str(datetime.timedelta(seconds=x)))\n"
     ]
    },
    {
     "name": "stdout",
     "output_type": "stream",
     "text": [
      "[219713 219761 231281 278657 189041 187745 189089 187793 180353 219665\n",
      " 198401 201185 175745 173777 173825 224561 189473 209297 187697 231329\n",
      " 186977 151265 151313 189137 175697 165281 168497 189425 186305 186929\n",
      " 198353 168545 209345 178913 201233 186257 189377 246401 231377 186113\n",
      " 180449 187841 186209 165329 186161 188993 180401 209201 187025 209249\n",
      " 264209 182273 165569 212993 178865 186353 264257 224657 209489 182225\n",
      " 164033 224609 253265 278705 239441 224849 212897 278609 241265 165521\n",
      " 241217 219617 178961 224705 171713 164081 231089 265121 168257 219809\n",
      " 264161 231233 173873 165233 261809 214241 168449 213041 185009 274481\n",
      " 175649 239489 238145 151553 198257 219521 168401 171665 265169 153857] Inverse\n"
     ]
    },
    {
     "name": "stderr",
     "output_type": "stream",
     "text": [
      "/tmp/ipykernel_28056/1268882290.py:85: SettingWithCopyWarning: \n",
      "A value is trying to be set on a copy of a slice from a DataFrame.\n",
      "Try using .loc[row_indexer,col_indexer] = value instead\n",
      "\n",
      "See the caveats in the documentation: https://pandas.pydata.org/pandas-docs/stable/user_guide/indexing.html#returning-a-view-versus-a-copy\n",
      "  result_df[\"Time Min\"] = result_df[\"Time [s]\"].apply(lambda x: str(datetime.timedelta(seconds=x)))\n"
     ]
    },
    {
     "name": "stdout",
     "output_type": "stream",
     "text": [
      "Folder 'breakthrough-space_Denmark_England_0:25:40' does not exist.\n",
      "[185201 179345 185249 179393 199553 185153 253169 253553 253601 185297\n",
      " 149873 179297 199505 185393 208097 189713 179441 185345 176369 181121\n",
      " 253649 208049 198929 181169 253121 149825 208865 198881 253697 174257\n",
      " 174593 253505 209873 189761 174305 179249 198977 174545 199073 174641\n",
      " 253217 199025 174209 199121 174353 179489 174401 238961 185441 208001\n",
      " 199601 176321 199169 187985 149921 209969 238913 189809 199457 209921\n",
      " 176417 187937 174497 174449 150257 253745 179537 173969 174161 149777\n",
      " 174689 193649 199217 149297 208145 179585 149345 149681 165473 189665\n",
      " 149729 189953 185105 189857 208817 193697 187361 179633 253457 199265\n",
      " 210017 175025 175073 174737 208913 198833 154625 150305 149393 190001] Control\n"
     ]
    },
    {
     "name": "stderr",
     "output_type": "stream",
     "text": [
      "/tmp/ipykernel_28056/1268882290.py:85: SettingWithCopyWarning: \n",
      "A value is trying to be set on a copy of a slice from a DataFrame.\n",
      "Try using .loc[row_indexer,col_indexer] = value instead\n",
      "\n",
      "See the caveats in the documentation: https://pandas.pydata.org/pandas-docs/stable/user_guide/indexing.html#returning-a-view-versus-a-copy\n",
      "  result_df[\"Time Min\"] = result_df[\"Time [s]\"].apply(lambda x: str(datetime.timedelta(seconds=x)))\n"
     ]
    },
    {
     "name": "stdout",
     "output_type": "stream",
     "text": [
      "[226385 179201 185105 246449 149681 149777 149729 151937 179249 144641\n",
      " 199121 240641 186449 193601 238913 214913 189233 195521 176177 157937\n",
      " 253361 214961 197777 209969 238865 144449 215153 199073 158033 253409\n",
      " 199025 250001 201281 195473 173921 157889 149825 213185 157841 145697\n",
      " 214865 198065 201377 208769 210401 253457 179393 174257 199361 174209\n",
      " 225905 193649 144881 176129 174353 157985 166529 204353 272993 202865\n",
      " 145457 259025 204689 198113 238817 165425 203489 165473 264785 194321\n",
      " 189569 253121 222641 174305 197345 185249 152273 198161 224849 283649\n",
      " 151985 150161 149633 215009 258305 168881 240785 207425 173873 145745\n",
      " 189617 216065 151889 224897 225665 147425 283985 240737 238769 185153] Exp\n"
     ]
    },
    {
     "name": "stderr",
     "output_type": "stream",
     "text": [
      "/tmp/ipykernel_28056/1268882290.py:85: SettingWithCopyWarning: \n",
      "A value is trying to be set on a copy of a slice from a DataFrame.\n",
      "Try using .loc[row_indexer,col_indexer] = value instead\n",
      "\n",
      "See the caveats in the documentation: https://pandas.pydata.org/pandas-docs/stable/user_guide/indexing.html#returning-a-view-versus-a-copy\n",
      "  result_df[\"Time Min\"] = result_df[\"Time [s]\"].apply(lambda x: str(datetime.timedelta(seconds=x)))\n"
     ]
    },
    {
     "name": "stdout",
     "output_type": "stream",
     "text": [
      "[185201 179345 185249 179393 199553 185153 253169 253553 253601 185297\n",
      " 149873 179297 199505 185393 208097 189713 179441 185345 176369 181121\n",
      " 253649 208049 198929 181169 253121 149825 208865 198881 253697 174257\n",
      " 174593 253505 209873 189761 174305 179249 198977 174545 199073 174641\n",
      " 253217 199025 174209 199121 174353 179489 174401 238961 185441 208001\n",
      " 199601 176321 199169 187985 149921 209969 238913 189809 199457 209921\n",
      " 176417 187937 174497 174449 150257 253745 179537 173969 174161 149777\n",
      " 174689 193649 199217 149297 208145 179585 149345 149681 165473 189665\n",
      " 149729 189953 185105 189857 208817 193697 187361 179633 253457 199265\n",
      " 210017 175025 175073 174737 208913 198833 154625 150305 149393 190001] Linear\n"
     ]
    },
    {
     "name": "stderr",
     "output_type": "stream",
     "text": [
      "/tmp/ipykernel_28056/1268882290.py:85: SettingWithCopyWarning: \n",
      "A value is trying to be set on a copy of a slice from a DataFrame.\n",
      "Try using .loc[row_indexer,col_indexer] = value instead\n",
      "\n",
      "See the caveats in the documentation: https://pandas.pydata.org/pandas-docs/stable/user_guide/indexing.html#returning-a-view-versus-a-copy\n",
      "  result_df[\"Time Min\"] = result_df[\"Time [s]\"].apply(lambda x: str(datetime.timedelta(seconds=x)))\n"
     ]
    },
    {
     "name": "stdout",
     "output_type": "stream",
     "text": [
      "[185201 179393 185249 185153 149825 179249 173921 238913 149777 174353\n",
      " 193649 238865 253121 185105 253697 193601 199505 199121 185297 179441\n",
      " 209969 174401 253457 208865 199073 199553 199025 174257 149681 174209\n",
      " 179345 157889 149729 187169 176321 253601 253649 174305 208769 150257\n",
      " 179201 189953 246497 175121 238769 187889 238817 175169 259457 210017\n",
      " 175217 253409 253361 208001 174689 175265 179585 165473 175073 198977\n",
      " 189905 174161 149633 199169 208241 157937 176273 179537 192833 175313\n",
      " 208289 189857 208049 259505 199361 199409 179297 253073 150641 201425\n",
      " 216113 150305 209009 193697 185441 150209 174881 208145 201377 198065\n",
      " 208097 208817 149345 189233 189617 180209 252833 226385 208193 185393] Inverse\n"
     ]
    },
    {
     "name": "stderr",
     "output_type": "stream",
     "text": [
      "/tmp/ipykernel_28056/1268882290.py:85: SettingWithCopyWarning: \n",
      "A value is trying to be set on a copy of a slice from a DataFrame.\n",
      "Try using .loc[row_indexer,col_indexer] = value instead\n",
      "\n",
      "See the caveats in the documentation: https://pandas.pydata.org/pandas-docs/stable/user_guide/indexing.html#returning-a-view-versus-a-copy\n",
      "  result_df[\"Time Min\"] = result_df[\"Time [s]\"].apply(lambda x: str(datetime.timedelta(seconds=x)))\n"
     ]
    },
    {
     "name": "stdout",
     "output_type": "stream",
     "text": [
      "Folder 'breakthrough-space_Denmark_England_0:30:51' does not exist.\n",
      "[154241 154193 154097 171761 198689 171809 154145 165377 219281 201569\n",
      " 154049 188897 165281 188849 165425 238529 165233 188945 154001 171617\n",
      " 171665 198641 188801 165329 238577 238481 185009 238433 172625 198737\n",
      " 153857 219473 173729 153905 173537 219233 171713 173489 198497 259073\n",
      " 188993 185057 153953 219521 216113 153809 216065 154289 219329 219425\n",
      " 222017 260033 173585 216257 222065 173777 157841 198449 219377 216161\n",
      " 238625 253409 184961 216017 221969 173681 173633 198545 165185 237569\n",
      " 157793 157889 216209 201521 238385 237329 237377 185105 238337 259025\n",
      " 198257 238289 215969 199409 222113 243761 198305 173873 273521 208721\n",
      " 198401 260081 199361 237281 171857 173825 216305 238241 198353 237617] Control\n"
     ]
    },
    {
     "name": "stderr",
     "output_type": "stream",
     "text": [
      "/tmp/ipykernel_28056/1268882290.py:85: SettingWithCopyWarning: \n",
      "A value is trying to be set on a copy of a slice from a DataFrame.\n",
      "Try using .loc[row_indexer,col_indexer] = value instead\n",
      "\n",
      "See the caveats in the documentation: https://pandas.pydata.org/pandas-docs/stable/user_guide/indexing.html#returning-a-view-versus-a-copy\n",
      "  result_df[\"Time Min\"] = result_df[\"Time [s]\"].apply(lambda x: str(datetime.timedelta(seconds=x)))\n"
     ]
    },
    {
     "name": "stdout",
     "output_type": "stream",
     "text": [
      "[253409 201377 185105 198161 157937 198113 165425 253361 258305 241409\n",
      " 157841 199073 210449 216065 199121 222641 157985 199025 201281 226481\n",
      " 203489 246449 201329 151937 272465 157793 149777 259025 197777 215009\n",
      " 207377 272993 214961 215057 197729 238529 238433 215105 249521 145697\n",
      " 176177 188801 145745 176129 188705 225713 147425 214913 152273 226385\n",
      " 181025 151985 207425 144641 147473 198977 262145 154049 145457 152321\n",
      " 249953 216209 208721 154001 179249 225809 175985 202865 216257 225953\n",
      " 145553 215153 219329 238721 264785 160433 199361 224945 250001 253457\n",
      " 262193 273425 186449 181793 225761 149537 264737 264401 195041 224897\n",
      " 279761 216113 213521 249905 194993 283697 258977 208673 194945 198689] Exp\n"
     ]
    },
    {
     "name": "stderr",
     "output_type": "stream",
     "text": [
      "/tmp/ipykernel_28056/1268882290.py:85: SettingWithCopyWarning: \n",
      "A value is trying to be set on a copy of a slice from a DataFrame.\n",
      "Try using .loc[row_indexer,col_indexer] = value instead\n",
      "\n",
      "See the caveats in the documentation: https://pandas.pydata.org/pandas-docs/stable/user_guide/indexing.html#returning-a-view-versus-a-copy\n",
      "  result_df[\"Time Min\"] = result_df[\"Time [s]\"].apply(lambda x: str(datetime.timedelta(seconds=x)))\n"
     ]
    },
    {
     "name": "stdout",
     "output_type": "stream",
     "text": [
      "[154241 154193 154097 171761 198689 171809 154145 165377 219281 201569\n",
      " 154049 188897 165281 188849 165425 238529 165233 188945 154001 171617\n",
      " 171665 198641 188801 165329 238577 238481 185009 238433 172625 198737\n",
      " 153857 219473 173729 153905 173537 219233 171713 173489 198497 259073\n",
      " 188993 185057 153953 219521 216113 153809 216065 154289 219329 219425\n",
      " 222017 260033 173585 216257 222065 173777 157841 198449 219377 216161\n",
      " 238625 253409 184961 216017 221969 173681 173633 198545 165185 237569\n",
      " 157793 157889 216209 201521 238385 237329 237377 185105 238337 259025\n",
      " 198257 238289 215969 199409 222113 243761 198305 173873 273521 208721\n",
      " 198401 260081 199361 237281 171857 173825 216305 238241 198353 237617] Linear\n"
     ]
    },
    {
     "name": "stderr",
     "output_type": "stream",
     "text": [
      "/tmp/ipykernel_28056/1268882290.py:85: SettingWithCopyWarning: \n",
      "A value is trying to be set on a copy of a slice from a DataFrame.\n",
      "Try using .loc[row_indexer,col_indexer] = value instead\n",
      "\n",
      "See the caveats in the documentation: https://pandas.pydata.org/pandas-docs/stable/user_guide/indexing.html#returning-a-view-versus-a-copy\n",
      "  result_df[\"Time Min\"] = result_df[\"Time [s]\"].apply(lambda x: str(datetime.timedelta(seconds=x)))\n"
     ]
    },
    {
     "name": "stdout",
     "output_type": "stream",
     "text": [
      "[165425 188801 154049 253409 165377 238529 198689 154001 157841 216065\n",
      " 185105 219281 154193 259025 171761 238433 216257 154145 208721 199073\n",
      " 157937 201377 219329 199025 157793 153953 199121 198209 201329 253361\n",
      " 171809 198161 216209 188849 181025 153809 238481 208673 149585 199361\n",
      " 175985 151937 171617 238721 216113 185057 154097 219233 258305 149777\n",
      " 215009 214961 198113 216017 240785 157985 238577 253457 158033 176129\n",
      " 176177 219377 214913 215057 173873 199409 158081 201521 149633 237569\n",
      " 240737 186449 240833 198641 165185 153905 149729 151985 157889 241409\n",
      " 238625 158129 258977 144449 246449 160865 224945 151889 195041 149681\n",
      " 204689 237329 199265 198785 188753 215105 208625 240689 198977 208769] Inverse\n"
     ]
    },
    {
     "name": "stderr",
     "output_type": "stream",
     "text": [
      "/tmp/ipykernel_28056/1268882290.py:85: SettingWithCopyWarning: \n",
      "A value is trying to be set on a copy of a slice from a DataFrame.\n",
      "Try using .loc[row_indexer,col_indexer] = value instead\n",
      "\n",
      "See the caveats in the documentation: https://pandas.pydata.org/pandas-docs/stable/user_guide/indexing.html#returning-a-view-versus-a-copy\n",
      "  result_df[\"Time Min\"] = result_df[\"Time [s]\"].apply(lambda x: str(datetime.timedelta(seconds=x)))\n"
     ]
    },
    {
     "name": "stdout",
     "output_type": "stream",
     "text": [
      "Folder 'breakthrough-space_Denmark_England_0:37:26' does not exist.\n",
      "[165473 201473 201521 171857 171905 216209 165521 165425 154145 149825\n",
      " 198785 154097 216161 185057 185105 154193 198737 201425 171809 216257\n",
      " 149585 149873 198929 149633 149777 198881 175121 198833 154049 175169\n",
      " 185153 189665 181121 253505 185009 253457 181073 171953 208001 179297\n",
      " 189329 189617 208817 201377 209057 175073 189377 253169 175217 173921\n",
      " 192785 149681 156737 259073 209105 157889 149921 156689 208769 207953\n",
      " 216305 149729 238865 154001 189281 180017 238913 189233 259121 154241\n",
      " 253409 216113 189425 208049 179969 209009 202433 208721 202481 189473\n",
      " 156785 149537 253553 189521 156641 163937 179345 198209 173969 198689\n",
      " 208625 238961 208673 189569 157937 219329 153953 238817 253601 175265] Control\n"
     ]
    },
    {
     "name": "stderr",
     "output_type": "stream",
     "text": [
      "/tmp/ipykernel_28056/1268882290.py:85: SettingWithCopyWarning: \n",
      "A value is trying to be set on a copy of a slice from a DataFrame.\n",
      "Try using .loc[row_indexer,col_indexer] = value instead\n",
      "\n",
      "See the caveats in the documentation: https://pandas.pydata.org/pandas-docs/stable/user_guide/indexing.html#returning-a-view-versus-a-copy\n",
      "  result_df[\"Time Min\"] = result_df[\"Time [s]\"].apply(lambda x: str(datetime.timedelta(seconds=x)))\n"
     ]
    },
    {
     "name": "stdout",
     "output_type": "stream",
     "text": [
      "[201473 252929 176225 163793 149393 201425 208337 226193 171857 234737\n",
      " 197105 216353 241073 198881 234689 181409 163745 240929 144497 150689\n",
      " 144593 207953 160529 208481 240881 235889 283841 181073 198833 253025\n",
      " 198929 253601 181313 208529 149249 213953 174545 144545 149201 189665\n",
      " 168689 176273 171905 216305 252881 213569 207857 248945 240113 171953\n",
      " 252977 152033 259553 179297 278465 234785 222593 187889 171473 160577\n",
      " 279665 208001 222545 213617 181121 240545 149441 279233 253649 179537\n",
      " 152081 181601 179345 174161 243569 248897 259505 253073 149153 181649\n",
      " 207905 163841 270929 248849 207761 208289 216161 216401 202097 259601\n",
      " 234833 198737 160625 208049 234881 226241 253505 234929 181361 168641] Exp\n"
     ]
    },
    {
     "name": "stderr",
     "output_type": "stream",
     "text": [
      "/tmp/ipykernel_28056/1268882290.py:85: SettingWithCopyWarning: \n",
      "A value is trying to be set on a copy of a slice from a DataFrame.\n",
      "Try using .loc[row_indexer,col_indexer] = value instead\n",
      "\n",
      "See the caveats in the documentation: https://pandas.pydata.org/pandas-docs/stable/user_guide/indexing.html#returning-a-view-versus-a-copy\n",
      "  result_df[\"Time Min\"] = result_df[\"Time [s]\"].apply(lambda x: str(datetime.timedelta(seconds=x)))\n"
     ]
    },
    {
     "name": "stdout",
     "output_type": "stream",
     "text": [
      "[165473 201473 201521 171857 171905 216209 165521 165425 154145 149825\n",
      " 198785 154097 216161 185057 185105 154193 198737 201425 171809 216257\n",
      " 149585 149873 198929 149633 149777 198881 175121 198833 154049 175169\n",
      " 185153 189665 181121 253505 185009 253457 181073 171953 208001 179297\n",
      " 189329 189617 208817 201377 209057 175073 189377 253169 175217 173921\n",
      " 192785 149681 156737 259073 209105 157889 149921 156689 208769 207953\n",
      " 216305 149729 238865 154001 189281 180017 238913 189233 259121 154241\n",
      " 253409 216113 189425 208049 179969 209009 202433 208721 202481 189473\n",
      " 156785 149537 253553 189521 156641 163937 179345 198209 173969 198689\n",
      " 208625 238961 208673 189569 157937 219329 153953 238817 253601 175265] Linear\n"
     ]
    },
    {
     "name": "stderr",
     "output_type": "stream",
     "text": [
      "/tmp/ipykernel_28056/1268882290.py:85: SettingWithCopyWarning: \n",
      "A value is trying to be set on a copy of a slice from a DataFrame.\n",
      "Try using .loc[row_indexer,col_indexer] = value instead\n",
      "\n",
      "See the caveats in the documentation: https://pandas.pydata.org/pandas-docs/stable/user_guide/indexing.html#returning-a-view-versus-a-copy\n",
      "  result_df[\"Time Min\"] = result_df[\"Time [s]\"].apply(lambda x: str(datetime.timedelta(seconds=x)))\n"
     ]
    },
    {
     "name": "stdout",
     "output_type": "stream",
     "text": [
      "[201473 171857 201425 198881 176225 198929 208337 207953 171905 198833\n",
      " 181073 216353 149393 171953 253025 216401 189665 216305 181409 208001\n",
      " 253601 208481 252929 253073 149441 149249 234737 179297 208529 198737\n",
      " 176273 253649 181121 216161 234689 149201 208049 181313 160529 259553\n",
      " 259505 240113 181361 198785 253505 216449 197105 208433 278465 207905\n",
      " 202097 179345 196673 208385 174641 163793 160577 253553 252977 187889\n",
      " 181697 208289 171473 144497 160673 163841 144593 160625 222497 174545\n",
      " 150689 149489 185297 240161 270929 171809 259601 216209 149825 252881\n",
      " 172001 208577 185153 222545 270977 238865 238817 216113 189617 187937\n",
      " 207857 201521 234785 149345 240929 279233 181649 174593 144641 176321] Inverse\n"
     ]
    },
    {
     "name": "stderr",
     "output_type": "stream",
     "text": [
      "/tmp/ipykernel_28056/1268882290.py:85: SettingWithCopyWarning: \n",
      "A value is trying to be set on a copy of a slice from a DataFrame.\n",
      "Try using .loc[row_indexer,col_indexer] = value instead\n",
      "\n",
      "See the caveats in the documentation: https://pandas.pydata.org/pandas-docs/stable/user_guide/indexing.html#returning-a-view-versus-a-copy\n",
      "  result_df[\"Time Min\"] = result_df[\"Time [s]\"].apply(lambda x: str(datetime.timedelta(seconds=x)))\n"
     ]
    },
    {
     "name": "stdout",
     "output_type": "stream",
     "text": [
      "Folder 'run-into-space_Denmark_England_0:43:37' does not exist.\n",
      "[216257 216305 198737 216209 216161 189617 149585 154049 157841 198785\n",
      " 181073 154193 189665 154001 154097 188849 201521 157889 198689 216113\n",
      " 171857 165425 201569 202097 165233 171905 165185 149633 216353 199025\n",
      " 171809 171953 188897 189569 154145 181025 165473 198977 157937 171521\n",
      " 171569 154241 238577 153761 188801 199409 237185 199073 198833 199121\n",
      " 153809 171617 172001 237137 237233 238529 153953 172049 199169 253457\n",
      " 189329 219329 259025 153905 175265 238481 224369 216401 219281 207905\n",
      " 259073 237089 201473 237281 165377 199457 238769 219377 216065 157793\n",
      " 149537 175217 237041 188945 207953 189521 210113 185057 153857 236993\n",
      " 189281 175313 199505 199217 210065 238625 198209 199265 199361 189377] Control\n"
     ]
    },
    {
     "name": "stderr",
     "output_type": "stream",
     "text": [
      "/tmp/ipykernel_28056/1268882290.py:85: SettingWithCopyWarning: \n",
      "A value is trying to be set on a copy of a slice from a DataFrame.\n",
      "Try using .loc[row_indexer,col_indexer] = value instead\n",
      "\n",
      "See the caveats in the documentation: https://pandas.pydata.org/pandas-docs/stable/user_guide/indexing.html#returning-a-view-versus-a-copy\n",
      "  result_df[\"Time Min\"] = result_df[\"Time [s]\"].apply(lambda x: str(datetime.timedelta(seconds=x)))\n"
     ]
    },
    {
     "name": "stdout",
     "output_type": "stream",
     "text": [
      "[149537 216257 198689 188801 154049 226433 279809 165425 154001 238529\n",
      " 198977 199025 216065 188705 165377 226481 199073 219329 219233 201329\n",
      " 197297 189569 168065 214049 279761 195041 195089 225857 171521 258977\n",
      " 238721 216209 194993 258929 194945 184865 194897 219281 194849 172577\n",
      " 173345 171761 226529 219377 258881 199121 258305 194801 259937 194753\n",
      " 197249 198161 238433 157985 195137 258833 197729 262289 148145 171377\n",
      " 259025 237569 237185 237137 237233 237089 194705 157745 184817 237281\n",
      " 236321 237329 253361 258785 157697 194657 219857 238577 195185 262193\n",
      " 249425 154193 236849 148097 212561 236897 243473 236993 195233 262337\n",
      " 236945 194609 237041 259889 188849 201569 281009 175985 280961 212513] Exp\n"
     ]
    },
    {
     "name": "stderr",
     "output_type": "stream",
     "text": [
      "/tmp/ipykernel_28056/1268882290.py:85: SettingWithCopyWarning: \n",
      "A value is trying to be set on a copy of a slice from a DataFrame.\n",
      "Try using .loc[row_indexer,col_indexer] = value instead\n",
      "\n",
      "See the caveats in the documentation: https://pandas.pydata.org/pandas-docs/stable/user_guide/indexing.html#returning-a-view-versus-a-copy\n",
      "  result_df[\"Time Min\"] = result_df[\"Time [s]\"].apply(lambda x: str(datetime.timedelta(seconds=x)))\n"
     ]
    },
    {
     "name": "stdout",
     "output_type": "stream",
     "text": [
      "[216257 216305 198737 216209 216161 189617 149585 154049 157841 198785\n",
      " 181073 154193 189665 154001 154097 188849 201521 157889 198689 216113\n",
      " 171857 165425 201569 202097 165233 171905 165185 149633 216353 199025\n",
      " 171809 171953 188897 189569 154145 181025 165473 198977 157937 171521\n",
      " 171569 154241 238577 153761 188801 199409 237185 199073 198833 199121\n",
      " 153809 171617 172001 237137 237233 238529 153953 172049 199169 253457\n",
      " 189329 219329 259025 153905 175265 238481 224369 216401 219281 207905\n",
      " 259073 237089 201473 237281 165377 199457 238769 219377 216065 157793\n",
      " 149537 175217 237041 188945 207953 189521 210113 185057 153857 236993\n",
      " 189281 175313 199505 199217 210065 238625 198209 199265 199361 189377] Linear\n"
     ]
    },
    {
     "name": "stderr",
     "output_type": "stream",
     "text": [
      "/tmp/ipykernel_28056/1268882290.py:85: SettingWithCopyWarning: \n",
      "A value is trying to be set on a copy of a slice from a DataFrame.\n",
      "Try using .loc[row_indexer,col_indexer] = value instead\n",
      "\n",
      "See the caveats in the documentation: https://pandas.pydata.org/pandas-docs/stable/user_guide/indexing.html#returning-a-view-versus-a-copy\n",
      "  result_df[\"Time Min\"] = result_df[\"Time [s]\"].apply(lambda x: str(datetime.timedelta(seconds=x)))\n"
     ]
    },
    {
     "name": "stdout",
     "output_type": "stream",
     "text": [
      "[216257 198689 216209 154049 149537 154001 165425 198977 199025 188801\n",
      " 189569 219329 219281 201521 171761 157841 199073 238529 171521 154193\n",
      " 189617 149585 181025 157793 157937 171809 216113 188849 165377 199121\n",
      " 259025 199409 216065 144641 165185 154145 201569 237185 237137 237233\n",
      " 216161 240833 237089 253409 219377 214049 198161 238577 215009 258977\n",
      " 237281 238721 196625 226433 157985 237329 259937 188753 171569 153953\n",
      " 214961 237041 236993 198785 168881 215057 207425 198209 258929 249857\n",
      " 158033 198113 168641 236273 166529 238433 236945 222641 207377 214913\n",
      " 166481 151985 189281 249809 237569 236897 153809 237377 201377 147473\n",
      " 171617 238481 144449 226481 185105 198737 157745 225953 199361 198641] Inverse\n"
     ]
    },
    {
     "name": "stderr",
     "output_type": "stream",
     "text": [
      "/tmp/ipykernel_28056/1268882290.py:85: SettingWithCopyWarning: \n",
      "A value is trying to be set on a copy of a slice from a DataFrame.\n",
      "Try using .loc[row_indexer,col_indexer] = value instead\n",
      "\n",
      "See the caveats in the documentation: https://pandas.pydata.org/pandas-docs/stable/user_guide/indexing.html#returning-a-view-versus-a-copy\n",
      "  result_df[\"Time Min\"] = result_df[\"Time [s]\"].apply(lambda x: str(datetime.timedelta(seconds=x)))\n"
     ]
    },
    {
     "name": "stdout",
     "output_type": "stream",
     "text": [
      "Folder 'breakthrough-even_Denmark_England_0:46:06' does not exist.\n",
      "[215105 215057 158225 215153 197777 166865 212753 176129 250001 249857\n",
      " 166913 202049 158177 166961 243521 204737 215009 271793 171425 203489\n",
      " 204689 221681 201617 271745 158129 221729 222113 259985 197825 186497\n",
      " 215201 249953 151937 264833 167009 224465 212705 176081 210257 237521\n",
      " 166577 265025 237473 172577 260033 221777 145793 210305 264401 224513\n",
      " 160913 250049 272945 166481 210449 260129 212609 278465 186449 259889\n",
      " 213233 158081 260081 203441 210401 224417 166529 259937 151985 271697\n",
      " 210353 243569 271841 222065 210209 222161 237905 222737 144737 212657\n",
      " 157745 249905 167057 166817 221825 157697 283649 221873 168641 215249\n",
      " 237569 168929 186545 150737 237425 197729 224321 166433 264449 214961] Control\n"
     ]
    },
    {
     "name": "stderr",
     "output_type": "stream",
     "text": [
      "/tmp/ipykernel_28056/1268882290.py:85: SettingWithCopyWarning: \n",
      "A value is trying to be set on a copy of a slice from a DataFrame.\n",
      "Try using .loc[row_indexer,col_indexer] = value instead\n",
      "\n",
      "See the caveats in the documentation: https://pandas.pydata.org/pandas-docs/stable/user_guide/indexing.html#returning-a-view-versus-a-copy\n",
      "  result_df[\"Time Min\"] = result_df[\"Time [s]\"].apply(lambda x: str(datetime.timedelta(seconds=x)))\n"
     ]
    },
    {
     "name": "stdout",
     "output_type": "stream",
     "text": [
      "[275249 257393 218993 237953 210833 215441 198545 238001 262481 262433\n",
      " 234017 204977 210977 215681 274577 260033 145841 215825 219041 281633\n",
      " 274625 188897 173729 180497 210929 151169 278129 184961 159041 164657\n",
      " 274673 221873 143585 197537 198497 205217 219137 167105 158369 144977\n",
      " 238049 265265 211121 221681 205169 219089 274721 222833 281729 281681\n",
      " 276209 224465 169073 169025 262385 215345 182321 259985 210881 276161\n",
      " 167057 198593 164081 197585 237905 274529 151121 211025 198449 238193\n",
      " 263585 215633 260177 144689 274769 281777 217169 173825 264881 276401\n",
      " 165329 231137 147953 261905 171713 152417 257825 152753 250145 272321\n",
      " 219425 231185 161057 272129 218897 161009 215873 210737 152609 147857] Exp\n",
      "[215105 215057 158225 215153 197777 166865 212753 176129 250001 249857\n",
      " 166913 202049 158177 166961 243521 204737 215009 271793 171425 203489\n",
      " 204689 221681 201617 271745 158129 221729 222113 259985 197825 186497\n",
      " 215201 249953 151937 264833 167009 224465 212705 176081 210257 237521\n",
      " 166577 265025 237473 172577 260033 221777 145793 210305 264401 224513\n",
      " 160913 250049 272945 166481 210449 260129 212609 278465 186449 259889\n",
      " 213233 158081 260081 203441 210401 224417 166529 259937 151985 271697\n",
      " 210353 243569 271841 222065 210209 222161 237905 222737 144737 212657\n",
      " 157745 249905 167057 166817 221825 157697 283649 221873 168641 215249\n",
      " 237569 168929 186545 150737 237425 197729 224321 166433 264449 214961] Linear\n"
     ]
    },
    {
     "name": "stderr",
     "output_type": "stream",
     "text": [
      "/tmp/ipykernel_28056/1268882290.py:85: SettingWithCopyWarning: \n",
      "A value is trying to be set on a copy of a slice from a DataFrame.\n",
      "Try using .loc[row_indexer,col_indexer] = value instead\n",
      "\n",
      "See the caveats in the documentation: https://pandas.pydata.org/pandas-docs/stable/user_guide/indexing.html#returning-a-view-versus-a-copy\n",
      "  result_df[\"Time Min\"] = result_df[\"Time [s]\"].apply(lambda x: str(datetime.timedelta(seconds=x)))\n",
      "/tmp/ipykernel_28056/1268882290.py:85: SettingWithCopyWarning: \n",
      "A value is trying to be set on a copy of a slice from a DataFrame.\n",
      "Try using .loc[row_indexer,col_indexer] = value instead\n",
      "\n",
      "See the caveats in the documentation: https://pandas.pydata.org/pandas-docs/stable/user_guide/indexing.html#returning-a-view-versus-a-copy\n",
      "  result_df[\"Time Min\"] = result_df[\"Time [s]\"].apply(lambda x: str(datetime.timedelta(seconds=x)))\n",
      "/tmp/ipykernel_28056/1268882290.py:85: SettingWithCopyWarning: \n",
      "A value is trying to be set on a copy of a slice from a DataFrame.\n",
      "Try using .loc[row_indexer,col_indexer] = value instead\n",
      "\n",
      "See the caveats in the documentation: https://pandas.pydata.org/pandas-docs/stable/user_guide/indexing.html#returning-a-view-versus-a-copy\n",
      "  result_df[\"Time Min\"] = result_df[\"Time [s]\"].apply(lambda x: str(datetime.timedelta(seconds=x)))\n"
     ]
    },
    {
     "name": "stdout",
     "output_type": "stream",
     "text": [
      "[257393 275249 260033 221681 197537 237953 224465 264929 151169 221873\n",
      " 145841 152417 259985 260081 167057 232337 237905 167105 212609 161009\n",
      " 264977 262001 180497 218993 219137 182321 212849 186641 186593 151121\n",
      " 166913 204977 250049 264881 272753 144737 219041 176081 272417 219185\n",
      " 238001 144977 272705 184961 173729 219089 222737 188897 215393 188657\n",
      " 219425 265025 204929 261953 147377 158225 145361 219857 221633 167153\n",
      " 160961 169025 186689 145793 197489 198545 215873 261857 186545 182417\n",
      " 280241 176033 153761 224417 222881 215441 260129 215825 261137 151217\n",
      " 168929 169073 198497 168977 151073 238049 222833 218897 166625 209441\n",
      " 144689 158273 159041 262385 265073 224513 221921 260177 264833 182369] Inverse\n"
     ]
    }
   ],
   "source": [
    "import datetime\n",
    "\n",
    "\n",
    "def process_situations(df):\n",
    "    # Dictionary to store recommendations\n",
    "    recommendations_dict = {}\n",
    "\n",
    "    # Step 2: Extract relevant rows (all rows with a label not equal to \"Missing\")\n",
    "    labeled_rows = df[df['Label'] != \"Missing\"]\n",
    "    relevant_indices = labeled_rows.index.tolist()\n",
    "    print(relevant_indices)\n",
    "    # Step 2: Process each relevant index\n",
    "    # Step 2: Process each relevant index\n",
    "    for relevant_index in relevant_indices:\n",
    "        # Step 3: Apply Wasserstein distance for various functions upfront\n",
    "        finished_indices_control = most_similar_with_wasserstein(relevant_index, df, func_control)\n",
    "        finished_indices_linear = most_similar_with_wasserstein(relevant_index, df, func_linear)\n",
    "        finished_indices_inverse = most_similar_with_wasserstein(relevant_index, df, func_inverse)\n",
    "        finished_indices_exp = most_similar_with_wasserstein(relevant_index, df, func_exp)\n",
    "\n",
    "        # Convert to numpy arrays\n",
    "        finished_indices_control = np.array(finished_indices_control)\n",
    "        finished_indices_exp = np.array(finished_indices_exp)\n",
    "        finished_indices_linear = np.array(finished_indices_linear)\n",
    "        finished_indices_inverse = np.array(finished_indices_inverse)\n",
    "\n",
    "        # Step 4: Filter indices based on the time window (±480 seconds)\n",
    "        time_window_filter = lambda indices: indices[\n",
    "            (indices > relevant_index + 480) | \n",
    "            (indices < relevant_index - 480)\n",
    "        ]\n",
    "\n",
    "        finished_indices_control = time_window_filter(finished_indices_control)[:100]\n",
    "        finished_indices_exp = time_window_filter(finished_indices_exp)[:100]\n",
    "        finished_indices_linear = time_window_filter(finished_indices_linear)[:100]\n",
    "        finished_indices_inverse = time_window_filter(finished_indices_inverse)[:100]\n",
    "\n",
    "        # Combine recommendations into a dictionary for separate processing\n",
    "        wasserstein_recommendations = {\n",
    "            \"Control\": finished_indices_control,\n",
    "            \"Exp\": finished_indices_exp,\n",
    "            \"Linear\": finished_indices_linear,\n",
    "            \"Inverse\": finished_indices_inverse\n",
    "        }\n",
    "        # Create the folder based on the label\n",
    "        # Step 6: Prepare the result DataFrame for this function set\n",
    "        label = df.loc[relevant_index, 'Label']  # Get the label for the situation\n",
    "        match_name = df.loc[relevant_index, 'match_name']\n",
    "        time_of_situation = str(datetime.timedelta(seconds=df.loc[relevant_index, 'Time [s]']))\n",
    "\n",
    "        folder_name = f\"{label}_{match_name}_{time_of_situation}\"\n",
    "        generate_folder(folder_name)\n",
    "\n",
    "        # Save the time and match_name to a text file\n",
    "        with open(f\"{folder_name}/situation_info.txt\", \"w\") as f:\n",
    "                f.write(f\"Match Name: {match_name}\\n\")\n",
    "                f.write(f\"Time of Situation: {time_of_situation}\\n\")\n",
    "\n",
    "        # Step 5: Process each set of indices separately\n",
    "        for func_name, indices_set in wasserstein_recommendations.items():\n",
    "            print(indices_set, func_name)\n",
    "            if len(indices_set) == 0:\n",
    "                continue  # Skip if no indices in this set\n",
    "\n",
    "            # Step 5.1: Compute similar movements for the current set\n",
    "            similar_movement = find_similar_movement(df, relevant_index, indices_set,length_of_sequence=240)\n",
    "            similar_movement_ranked = sorted(similar_movement, key=lambda x: x[0])\n",
    "\n",
    "            # Step 5.2: Select indices, ensuring no two are within 100 places of each other\n",
    "            selected_indices = []\n",
    "            for _, index in similar_movement_ranked:\n",
    "                if all(abs(index - selected) > 500 for selected in selected_indices):\n",
    "                    selected_indices.append(index)\n",
    "                if len(selected_indices) == 10:  # Stop once we have 10 indices\n",
    "                    break\n",
    "\n",
    "            new_df = df.loc[selected_indices[:10]]\n",
    "\n",
    "            \n",
    "            \n",
    "\n",
    "\n",
    "            # Generate the result DataFrame\n",
    "            result_df = new_df[[\"match_name\", \"Time [s]\", \"half_team\"]]\n",
    "            result_df[\"Time Min\"] = result_df[\"Time [s]\"].apply(lambda x: str(datetime.timedelta(seconds=x)))\n",
    "\n",
    "            # Save the ground truth CSV for this function set\n",
    "            result_df.to_csv(f\"{folder_name}/{folder_name}_{func_name}_ground_truth.csv\")\n",
    "\n",
    "            # Shuffle and save the ordering truth CSV for this function set\n",
    "            result_df.sample(frac=1).to_csv(f\"{folder_name}/{folder_name}_{func_name}_for_ordering_truth.csv\")\n",
    "\n",
    "            # Store the recommendations in the dictionary\n",
    "            recommendations_dict[relevant_index] = recommendations_dict.get(relevant_index, {})\n",
    "            recommendations_dict[relevant_index][func_name] = selected_indices[:10]\n",
    "\n",
    "    # Return the dictionary with recommendations\n",
    "    return recommendations_dict\n",
    "\n",
    "    \n",
    "\n",
    "reccomendations_dict = process_situations(df)"
   ]
  },
  {
   "cell_type": "code",
   "execution_count": 8,
   "metadata": {},
   "outputs": [
    {
     "data": {
      "text/plain": [
       "{143547: {'Control': [234257,\n",
       "   252497,\n",
       "   282353,\n",
       "   169793,\n",
       "   241601,\n",
       "   203681,\n",
       "   284465,\n",
       "   281105,\n",
       "   167633,\n",
       "   232577],\n",
       "  'Exp': [282977,\n",
       "   261521,\n",
       "   230321,\n",
       "   268913,\n",
       "   164465,\n",
       "   282353,\n",
       "   218753,\n",
       "   160241,\n",
       "   284225,\n",
       "   180689],\n",
       "  'Linear': [234257,\n",
       "   252497,\n",
       "   282353,\n",
       "   169793,\n",
       "   241601,\n",
       "   203681,\n",
       "   284465,\n",
       "   281105,\n",
       "   167633,\n",
       "   232577],\n",
       "  'Inverse': [282353,\n",
       "   234401,\n",
       "   169793,\n",
       "   241601,\n",
       "   203681,\n",
       "   261329,\n",
       "   284225,\n",
       "   281057,\n",
       "   252449,\n",
       "   218273]},\n",
       " 154347: {'Control': [189521,\n",
       "   173825,\n",
       "   187841,\n",
       "   198641,\n",
       "   278705,\n",
       "   175697,\n",
       "   214289,\n",
       "   187025,\n",
       "   231233,\n",
       "   171713],\n",
       "  'Exp': [187745,\n",
       "   186881,\n",
       "   189473,\n",
       "   173777,\n",
       "   278657,\n",
       "   185009,\n",
       "   259169,\n",
       "   151601,\n",
       "   272753,\n",
       "   175745],\n",
       "  'Linear': [189521,\n",
       "   173825,\n",
       "   187841,\n",
       "   198641,\n",
       "   278705,\n",
       "   175697,\n",
       "   214289,\n",
       "   187025,\n",
       "   231233,\n",
       "   171713],\n",
       "  'Inverse': [173825,\n",
       "   187841,\n",
       "   278705,\n",
       "   175697,\n",
       "   186929,\n",
       "   189473,\n",
       "   151553,\n",
       "   185009,\n",
       "   231233,\n",
       "   214241]},\n",
       " 181797: {'Control': [193697,\n",
       "   185249,\n",
       "   199505,\n",
       "   187361,\n",
       "   176369,\n",
       "   238961,\n",
       "   208001,\n",
       "   174353,\n",
       "   179249,\n",
       "   190001],\n",
       "  'Exp': [197777,\n",
       "   208769,\n",
       "   185249,\n",
       "   189617,\n",
       "   193649,\n",
       "   173921,\n",
       "   253409,\n",
       "   179249,\n",
       "   150161,\n",
       "   176177],\n",
       "  'Linear': [193697,\n",
       "   185249,\n",
       "   199505,\n",
       "   187361,\n",
       "   176369,\n",
       "   238961,\n",
       "   208001,\n",
       "   174353,\n",
       "   179249,\n",
       "   190001],\n",
       "  'Inverse': [193697,\n",
       "   208769,\n",
       "   176273,\n",
       "   185249,\n",
       "   189617,\n",
       "   199505,\n",
       "   175217,\n",
       "   187889,\n",
       "   173921,\n",
       "   253409]},\n",
       " 189572: {'Control': [173873,\n",
       "   198641,\n",
       "   253409,\n",
       "   184961,\n",
       "   238625,\n",
       "   199361,\n",
       "   171761,\n",
       "   216257,\n",
       "   154241,\n",
       "   165329],\n",
       "  'Exp': [253361,\n",
       "   181025,\n",
       "   176129,\n",
       "   185105,\n",
       "   198689,\n",
       "   160433,\n",
       "   179249,\n",
       "   199361,\n",
       "   181793,\n",
       "   238721],\n",
       "  'Linear': [173873,\n",
       "   198641,\n",
       "   253409,\n",
       "   184961,\n",
       "   238625,\n",
       "   199361,\n",
       "   171761,\n",
       "   216257,\n",
       "   154241,\n",
       "   165329],\n",
       "  'Inverse': [253361,\n",
       "   181025,\n",
       "   173873,\n",
       "   198641,\n",
       "   176129,\n",
       "   185057,\n",
       "   238625,\n",
       "   149585,\n",
       "   199361,\n",
       "   171761]},\n",
       " 199447: {'Control': [253601,\n",
       "   238913,\n",
       "   154145,\n",
       "   208625,\n",
       "   149537,\n",
       "   219329,\n",
       "   157937,\n",
       "   207953,\n",
       "   189281,\n",
       "   198737],\n",
       "  'Exp': [253601,\n",
       "   176225,\n",
       "   174545,\n",
       "   149153,\n",
       "   207953,\n",
       "   181649,\n",
       "   187889,\n",
       "   168689,\n",
       "   240545,\n",
       "   179537],\n",
       "  'Linear': [253601,\n",
       "   238913,\n",
       "   154145,\n",
       "   208625,\n",
       "   149537,\n",
       "   219329,\n",
       "   157937,\n",
       "   207953,\n",
       "   189281,\n",
       "   198737],\n",
       "  'Inverse': [253601,\n",
       "   208577,\n",
       "   174593,\n",
       "   176225,\n",
       "   181697,\n",
       "   149489,\n",
       "   207953,\n",
       "   187889,\n",
       "   185297,\n",
       "   189665]},\n",
       " 208722: {'Control': [199409,\n",
       "   238577,\n",
       "   181025,\n",
       "   207905,\n",
       "   219377,\n",
       "   189569,\n",
       "   154193,\n",
       "   198737,\n",
       "   175217,\n",
       "   216209],\n",
       "  'Exp': [197729,\n",
       "   243473,\n",
       "   157697,\n",
       "   238577,\n",
       "   219377,\n",
       "   189569,\n",
       "   195233,\n",
       "   154193,\n",
       "   253361,\n",
       "   216209],\n",
       "  'Linear': [199409,\n",
       "   238577,\n",
       "   181025,\n",
       "   207905,\n",
       "   219377,\n",
       "   189569,\n",
       "   154193,\n",
       "   198737,\n",
       "   175217,\n",
       "   216209],\n",
       "  'Inverse': [199409,\n",
       "   238577,\n",
       "   157745,\n",
       "   181025,\n",
       "   219377,\n",
       "   189569,\n",
       "   198641,\n",
       "   154193,\n",
       "   253409,\n",
       "   216209]},\n",
       " 214138: {'Control': [221825,\n",
       "   197729,\n",
       "   224417,\n",
       "   260129,\n",
       "   212753,\n",
       "   243521,\n",
       "   157697,\n",
       "   237905,\n",
       "   166913,\n",
       "   172577],\n",
       "  'Exp': [278129,\n",
       "   143585,\n",
       "   257825,\n",
       "   219425,\n",
       "   231185,\n",
       "   224465,\n",
       "   221873,\n",
       "   260033,\n",
       "   237905,\n",
       "   151121],\n",
       "  'Linear': [221825,\n",
       "   197729,\n",
       "   224417,\n",
       "   260129,\n",
       "   212753,\n",
       "   243521,\n",
       "   157697,\n",
       "   237905,\n",
       "   166913,\n",
       "   172577],\n",
       "  'Inverse': [209441,\n",
       "   219425,\n",
       "   224417,\n",
       "   260129,\n",
       "   221873,\n",
       "   212849,\n",
       "   237905,\n",
       "   151121,\n",
       "   144689,\n",
       "   188897]}}"
      ]
     },
     "execution_count": 8,
     "metadata": {},
     "output_type": "execute_result"
    }
   ],
   "source": [
    "reccomendations_dict"
   ]
  },
  {
   "cell_type": "code",
   "execution_count": 36,
   "metadata": {},
   "outputs": [],
   "source": []
  },
  {
   "cell_type": "code",
   "execution_count": 10,
   "metadata": {},
   "outputs": [
    {
     "name": "stdout",
     "output_type": "stream",
     "text": [
      "breakthrough-space_Denmark_England_0:37:26\n",
      "Creating Pause Button\n",
      "Creating Play Button\n",
      "Creating Next Button\n",
      "Creating Previous Button\n",
      "Creating Close Button\n",
      "Creating Time Label\n",
      "Creating Negative Rating Button\n",
      "Creating Positiv Rating Button\n"
     ]
    },
    {
     "name": "stderr",
     "output_type": "stream",
     "text": [
      "[00007f1b1c004ea0] gl gl: Initialized libplacebo v4.192.1 (API v192)\n"
     ]
    },
    {
     "name": "stdout",
     "output_type": "stream",
     "text": [
      "Initial Time: 0 seconds\n",
      "Creating Pause Button\n",
      "Creating Play Button\n",
      "Creating Next Button\n",
      "Creating Previous Button\n",
      "Creating Close Button\n",
      "Creating Time Label\n",
      "Creating Negative Rating Button\n",
      "Creating Positiv Rating Button\n"
     ]
    },
    {
     "name": "stderr",
     "output_type": "stream",
     "text": [
      "[00007f1af4001720] gl gl: Initialized libplacebo v4.192.1 (API v192)\n"
     ]
    },
    {
     "name": "stdout",
     "output_type": "stream",
     "text": [
      "Initial Time: 0 seconds\n"
     ]
    },
    {
     "name": "stderr",
     "output_type": "stream",
     "text": [
      "invalid command name \"139756208861184update_time_label\"\n",
      "    while executing\n",
      "\"139756208861184update_time_label\"\n",
      "    (\"after\" script)\n"
     ]
    },
    {
     "name": "stdout",
     "output_type": "stream",
     "text": [
      "breakthrough-space_Denmark_England_0:37:26\n",
      "Creating Pause Button\n",
      "Creating Play Button\n",
      "Creating Next Button\n",
      "Creating Previous Button\n",
      "Creating Close Button\n",
      "Creating Time Label\n",
      "Creating Negative Rating Button\n",
      "Creating Positiv Rating Button\n"
     ]
    },
    {
     "name": "stderr",
     "output_type": "stream",
     "text": [
      "[00007f1b00001720] gl gl: Initialized libplacebo v4.192.1 (API v192)\n"
     ]
    },
    {
     "name": "stdout",
     "output_type": "stream",
     "text": [
      "Initial Time: 0 seconds\n"
     ]
    },
    {
     "name": "stderr",
     "output_type": "stream",
     "text": [
      "invalid command name \"139756209037248update_time_label\"\n",
      "    while executing\n",
      "\"139756209037248update_time_label\"\n",
      "    (\"after\" script)\n"
     ]
    },
    {
     "name": "stdout",
     "output_type": "stream",
     "text": [
      "Creating Pause Button\n",
      "Creating Play Button\n",
      "Creating Next Button\n",
      "Creating Previous Button\n",
      "Creating Close Button\n",
      "Creating Time Label\n",
      "Creating Negative Rating Button\n",
      "Creating Positiv Rating Button\n"
     ]
    },
    {
     "name": "stderr",
     "output_type": "stream",
     "text": [
      "[00007f1ab4001720] gl gl: Initialized libplacebo v4.192.1 (API v192)\n"
     ]
    },
    {
     "name": "stdout",
     "output_type": "stream",
     "text": [
      "Initial Time: 0 seconds\n"
     ]
    },
    {
     "name": "stderr",
     "output_type": "stream",
     "text": [
      "invalid command name \"139756209035072update_time_label\"\n",
      "    while executing\n",
      "\"139756209035072update_time_label\"\n",
      "    (\"after\" script)\n"
     ]
    },
    {
     "name": "stdout",
     "output_type": "stream",
     "text": [
      "breakthrough-space_Denmark_England_0:37:26\n",
      "Creating Pause Button\n",
      "Creating Play Button\n",
      "Creating Next Button\n",
      "Creating Previous Button\n",
      "Creating Close Button\n",
      "Creating Time Label\n",
      "Creating Negative Rating Button\n",
      "Creating Positiv Rating Button\n"
     ]
    },
    {
     "name": "stderr",
     "output_type": "stream",
     "text": [
      "[00007f1b34007b00] gl gl: Initialized libplacebo v4.192.1 (API v192)\n"
     ]
    },
    {
     "name": "stdout",
     "output_type": "stream",
     "text": [
      "Initial Time: 0 seconds\n"
     ]
    },
    {
     "name": "stderr",
     "output_type": "stream",
     "text": [
      "invalid command name \"139756217721984update_time_label\"\n",
      "    while executing\n",
      "\"139756217721984update_time_label\"\n",
      "    (\"after\" script)\n",
      "Exception in Tkinter callback\n",
      "Traceback (most recent call last):\n",
      "  File \"/home/martin/anaconda3/envs/DBU/lib/python3.10/tkinter/__init__.py\", line 1921, in __call__\n",
      "    return self.func(*args)\n",
      "  File \"/home/martin/Desktop/Thesis Preperation/Thesis_V1/Thesis_V1/evaluation/../libs/Video_Player.py\", line 113, in next_time\n",
      "    if self.distance_index_list.any():\n",
      "AttributeError: 'list' object has no attribute 'any'\n"
     ]
    },
    {
     "name": "stdout",
     "output_type": "stream",
     "text": [
      "Creating Pause Button\n",
      "Creating Play Button\n",
      "Creating Next Button\n",
      "Creating Previous Button\n",
      "Creating Close Button\n",
      "Creating Time Label\n",
      "Creating Negative Rating Button\n",
      "Creating Positiv Rating Button\n"
     ]
    },
    {
     "name": "stderr",
     "output_type": "stream",
     "text": [
      "[00007f1acd4c9e00] gl gl: Initialized libplacebo v4.192.1 (API v192)\n"
     ]
    },
    {
     "name": "stdout",
     "output_type": "stream",
     "text": [
      "Initial Time: 0 seconds\n"
     ]
    },
    {
     "name": "stderr",
     "output_type": "stream",
     "text": [
      "invalid command name \"139756218903040update_time_label\"\n",
      "    while executing\n",
      "\"139756218903040update_time_label\"\n",
      "    (\"after\" script)\n"
     ]
    },
    {
     "name": "stdout",
     "output_type": "stream",
     "text": [
      "breakthrough-space_Denmark_England_0:37:26\n",
      "Creating Pause Button\n",
      "Creating Play Button\n",
      "Creating Next Button\n",
      "Creating Previous Button\n",
      "Creating Close Button\n",
      "Creating Time Label\n",
      "Creating Negative Rating Button\n",
      "Creating Positiv Rating Button\n"
     ]
    },
    {
     "name": "stderr",
     "output_type": "stream",
     "text": [
      "[00007f1b2c001c80] gl gl: Initialized libplacebo v4.192.1 (API v192)\n"
     ]
    },
    {
     "name": "stdout",
     "output_type": "stream",
     "text": [
      "Initial Time: 0 seconds\n"
     ]
    },
    {
     "name": "stderr",
     "output_type": "stream",
     "text": [
      "invalid command name \"139756208670144update_time_label\"\n",
      "    while executing\n",
      "\"139756208670144update_time_label\"\n",
      "    (\"after\" script)\n"
     ]
    },
    {
     "name": "stdout",
     "output_type": "stream",
     "text": [
      "Creating Pause Button\n",
      "Creating Play Button\n",
      "Creating Next Button\n",
      "Creating Previous Button\n",
      "Creating Close Button\n",
      "Creating Time Label\n",
      "Creating Negative Rating Button\n",
      "Creating Positiv Rating Button\n"
     ]
    },
    {
     "name": "stderr",
     "output_type": "stream",
     "text": [
      "[00007f1af8005570] gl gl: Initialized libplacebo v4.192.1 (API v192)\n"
     ]
    },
    {
     "name": "stdout",
     "output_type": "stream",
     "text": [
      "Initial Time: 0 seconds\n"
     ]
    },
    {
     "name": "stderr",
     "output_type": "stream",
     "text": [
      "invalid command name \"139756208914368update_time_label\"\n",
      "    while executing\n",
      "\"139756208914368update_time_label\"\n",
      "    (\"after\" script)\n"
     ]
    },
    {
     "name": "stdout",
     "output_type": "stream",
     "text": [
      "run-into-space_Denmark_England_0:00:10\n",
      "Creating Pause Button\n",
      "Creating Play Button\n",
      "Creating Next Button\n",
      "Creating Previous Button\n",
      "Creating Close Button\n",
      "Creating Time Label\n",
      "Creating Negative Rating Button\n",
      "Creating Positiv Rating Button\n"
     ]
    },
    {
     "name": "stderr",
     "output_type": "stream",
     "text": [
      "[00007f1ac0001720] gl gl: Initialized libplacebo v4.192.1 (API v192)\n"
     ]
    },
    {
     "name": "stdout",
     "output_type": "stream",
     "text": [
      "Initial Time: 0 seconds\n"
     ]
    },
    {
     "name": "stderr",
     "output_type": "stream",
     "text": [
      "invalid command name \"139756209018304update_time_label\"\n",
      "    while executing\n",
      "\"139756209018304update_time_label\"\n",
      "    (\"after\" script)\n"
     ]
    },
    {
     "name": "stdout",
     "output_type": "stream",
     "text": [
      "Creating Pause Button\n",
      "Creating Play Button\n",
      "Creating Next Button\n",
      "Creating Previous Button\n",
      "Creating Close Button\n",
      "Creating Time Label\n",
      "Creating Negative Rating Button\n",
      "Creating Positiv Rating Button\n"
     ]
    },
    {
     "name": "stderr",
     "output_type": "stream",
     "text": [
      "[00007f1b0010ac60] gl gl: Initialized libplacebo v4.192.1 (API v192)\n"
     ]
    },
    {
     "name": "stdout",
     "output_type": "stream",
     "text": [
      "Initial Time: 0 seconds\n"
     ]
    },
    {
     "name": "stderr",
     "output_type": "stream",
     "text": [
      "invalid command name \"139756172062400update_time_label\"\n",
      "    while executing\n",
      "\"139756172062400update_time_label\"\n",
      "    (\"after\" script)\n"
     ]
    },
    {
     "name": "stdout",
     "output_type": "stream",
     "text": [
      "run-into-space_Denmark_England_0:00:10\n",
      "Creating Pause Button\n",
      "Creating Play Button\n",
      "Creating Next Button\n",
      "Creating Previous Button\n",
      "Creating Close Button\n",
      "Creating Time Label\n",
      "Creating Negative Rating Button\n",
      "Creating Positiv Rating Button\n"
     ]
    },
    {
     "name": "stderr",
     "output_type": "stream",
     "text": [
      "[00007f1ab410be30] gl gl: Initialized libplacebo v4.192.1 (API v192)\n"
     ]
    },
    {
     "name": "stdout",
     "output_type": "stream",
     "text": [
      "Initial Time: 0 seconds\n"
     ]
    },
    {
     "name": "stderr",
     "output_type": "stream",
     "text": [
      "invalid command name \"139756209191808update_time_label\"\n",
      "    while executing\n",
      "\"139756209191808update_time_label\"\n",
      "    (\"after\" script)\n"
     ]
    },
    {
     "name": "stdout",
     "output_type": "stream",
     "text": [
      "Creating Pause Button\n",
      "Creating Play Button\n",
      "Creating Next Button\n",
      "Creating Previous Button\n",
      "Creating Close Button\n",
      "Creating Time Label\n",
      "Creating Negative Rating Button\n",
      "Creating Positiv Rating Button\n"
     ]
    },
    {
     "name": "stderr",
     "output_type": "stream",
     "text": [
      "[00007f1ae4001720] gl gl: Initialized libplacebo v4.192.1 (API v192)\n"
     ]
    },
    {
     "name": "stdout",
     "output_type": "stream",
     "text": [
      "Initial Time: 0 seconds\n"
     ]
    },
    {
     "name": "stderr",
     "output_type": "stream",
     "text": [
      "invalid command name \"139756209192512update_time_label\"\n",
      "    while executing\n",
      "\"139756209192512update_time_label\"\n",
      "    (\"after\" script)\n"
     ]
    },
    {
     "name": "stdout",
     "output_type": "stream",
     "text": [
      "run-into-space_Denmark_England_0:00:10\n",
      "Creating Pause Button\n",
      "Creating Play Button\n",
      "Creating Next Button\n",
      "Creating Previous Button\n",
      "Creating Close Button\n",
      "Creating Time Label\n",
      "Creating Negative Rating Button\n",
      "Creating Positiv Rating Button\n"
     ]
    },
    {
     "name": "stderr",
     "output_type": "stream",
     "text": [
      "[00007f1b2c001c80] gl gl: Initialized libplacebo v4.192.1 (API v192)\n"
     ]
    },
    {
     "name": "stdout",
     "output_type": "stream",
     "text": [
      "Initial Time: 0 seconds\n"
     ]
    },
    {
     "name": "stderr",
     "output_type": "stream",
     "text": [
      "invalid command name \"139756208973248update_time_label\"\n",
      "    while executing\n",
      "\"139756208973248update_time_label\"\n",
      "    (\"after\" script)\n"
     ]
    },
    {
     "name": "stdout",
     "output_type": "stream",
     "text": [
      "Creating Pause Button\n",
      "Creating Play Button\n",
      "Creating Next Button\n",
      "Creating Previous Button\n",
      "Creating Close Button\n",
      "Creating Time Label\n",
      "Creating Negative Rating Button\n",
      "Creating Positiv Rating Button\n"
     ]
    },
    {
     "name": "stderr",
     "output_type": "stream",
     "text": [
      "[00007f1af8005570] gl gl: Initialized libplacebo v4.192.1 (API v192)\n"
     ]
    },
    {
     "name": "stdout",
     "output_type": "stream",
     "text": [
      "Initial Time: 0 seconds\n"
     ]
    },
    {
     "name": "stderr",
     "output_type": "stream",
     "text": [
      "invalid command name \"139756208969664update_time_label\"\n",
      "    while executing\n",
      "\"139756208969664update_time_label\"\n",
      "    (\"after\" script)\n"
     ]
    },
    {
     "name": "stdout",
     "output_type": "stream",
     "text": [
      "run-into-space_Denmark_England_0:00:10\n",
      "Creating Pause Button\n",
      "Creating Play Button\n",
      "Creating Next Button\n",
      "Creating Previous Button\n",
      "Creating Close Button\n",
      "Creating Time Label\n",
      "Creating Negative Rating Button\n",
      "Creating Positiv Rating Button\n"
     ]
    },
    {
     "name": "stderr",
     "output_type": "stream",
     "text": [
      "[00007f1a58001720] gl gl: Initialized libplacebo v4.192.1 (API v192)\n"
     ]
    },
    {
     "name": "stdout",
     "output_type": "stream",
     "text": [
      "Initial Time: 0 seconds\n"
     ]
    },
    {
     "name": "stderr",
     "output_type": "stream",
     "text": [
      "invalid command name \"139756208975488update_time_label\"\n",
      "    while executing\n",
      "\"139756208975488update_time_label\"\n",
      "    (\"after\" script)\n",
      "Exception in Tkinter callback\n",
      "Traceback (most recent call last):\n",
      "  File \"/home/martin/anaconda3/envs/DBU/lib/python3.10/tkinter/__init__.py\", line 1919, in __call__\n",
      "    if self.subst:\n",
      "KeyboardInterrupt\n"
     ]
    }
   ],
   "source": [
    "\n",
    "root =\"csvs_for_ranking\"\n",
    "folders = os.listdir(root)\n",
    "\n",
    "import re\n",
    "\n",
    "def extract_seconds_from_folder(folder_name):\n",
    "    # Use regex to find the time pattern (hh:mm:ss)\n",
    "    match = re.search(r'(\\d+):(\\d+):(\\d+)', folder_name)\n",
    "    if match:\n",
    "        hours, minutes, seconds = map(int, match.groups())\n",
    "        # Convert to total seconds\n",
    "        return hours * 3600 + minutes * 60 + seconds\n",
    "    else:\n",
    "        # Return None if no time is found\n",
    "        return None\n",
    "2700\n",
    "\n",
    "\n",
    "for folder in folders:\n",
    "    csvs = os.listdir(root + \"/\"+folder)\n",
    "    for csv in csvs:\n",
    "        if (\"ground_truth\" in csv):\n",
    "            print(folder)\n",
    "\n",
    "\n",
    "            seconds = extract_seconds_from_folder(folder)\n",
    "\n",
    "            if (seconds > 2700):\n",
    "                myplayer = VideoPlayer(\"3-2024-2036178-Denmark_England.mp4\",8+971+seconds,0,[])\n",
    "            if (seconds < 2700):\n",
    "                myplayer = VideoPlayer(\"3-2024-2036178-Denmark_England.mp4\",8+seconds,0,[])\n",
    "            df = pd.read_csv(root +\"/\"+folder+\"/\"+csv)\n",
    "            indices_1 = df[[\"Time [s]\",\"half_team\",'Unnamed: 0']].sample(frac=1).to_numpy()\n",
    "            myplayer = VideoPlayer(\"3-2024-2036178-Denmark_England.mp4\",8,8+971,indices_1)\n",
    "            ratings = myplayer.ratings\n",
    "            ratings_df  = pd.DataFrame(ratings, columns=['Unnamed: 0',\"rating\"])\n",
    "            rated_situations = pd.merge(df, ratings_df, how =\"inner\", on=['Unnamed: 0'])\n",
    "            rated_situations =rated_situations.drop_duplicates('Unnamed: 0')\n",
    "            rated_situations.to_csv(root +\"/\"+folder+\"/\"+\"ranked_\"+csv)\n",
    "\n",
    "\n"
   ]
  },
  {
   "cell_type": "code",
   "execution_count": 27,
   "metadata": {},
   "outputs": [],
   "source": []
  },
  {
   "cell_type": "code",
   "execution_count": 28,
   "metadata": {},
   "outputs": [],
   "source": [
    "ratings_df  = pd.DataFrame(ratings, columns=['Unnamed: 0',\"rating\"])"
   ]
  },
  {
   "cell_type": "code",
   "execution_count": 33,
   "metadata": {},
   "outputs": [],
   "source": [
    "rated_situations = pd.merge(df, ratings_df, how =\"inner\", on=['Unnamed: 0'])"
   ]
  },
  {
   "cell_type": "code",
   "execution_count": 34,
   "metadata": {},
   "outputs": [],
   "source": [
    "rated_situations =rated_situations.drop_duplicates('Unnamed: 0')"
   ]
  },
  {
   "cell_type": "code",
   "execution_count": 35,
   "metadata": {},
   "outputs": [
    {
     "name": "stdout",
     "output_type": "stream",
     "text": [
      "    Unnamed: 0       match_name  Time [s] half_team        Time Min  rating\n",
      "0       179537  Denmark_England   1449.60        1H  0:24:09.600000       1\n",
      "1       174689  Denmark_England   1255.68        1H  0:20:55.680000       0\n",
      "3       199505  Denmark_England   2248.32        1H  0:37:28.320000       1\n",
      "5       149921  Denmark_England    264.96        1H  0:04:24.960000       1\n",
      "6       193697  Denmark_England   2016.00        1H         0:33:36       0\n",
      "7       208001  Denmark_England   2588.16        1H  0:43:08.160000       1\n",
      "8       238961  Denmark_England   3758.92        2H  1:02:38.920000       0\n",
      "9       253697  Denmark_England   4348.36        2H  1:12:28.360000       0\n",
      "10      176321  Denmark_England   1320.96        1H  0:22:00.960000       1\n",
      "11      185441  Denmark_England   1685.76        1H  0:28:05.760000       1\n"
     ]
    }
   ],
   "source": [
    "print(rated_situations)"
   ]
  }
 ],
 "metadata": {
  "kernelspec": {
   "display_name": "DBU",
   "language": "python",
   "name": "python3"
  },
  "language_info": {
   "codemirror_mode": {
    "name": "ipython",
    "version": 3
   },
   "file_extension": ".py",
   "mimetype": "text/x-python",
   "name": "python",
   "nbconvert_exporter": "python",
   "pygments_lexer": "ipython3",
   "version": "3.10.11"
  }
 },
 "nbformat": 4,
 "nbformat_minor": 2
}
